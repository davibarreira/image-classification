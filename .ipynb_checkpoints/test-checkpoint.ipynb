{
 "cells": [
  {
   "cell_type": "markdown",
   "metadata": {
    "collapsed": true,
    "deletable": true,
    "editable": true
   },
   "source": [
    "# Image Classification\n",
    "In this project, you'll classify images from the [CIFAR-10 dataset](https://www.cs.toronto.edu/~kriz/cifar.html).  The dataset consists of airplanes, dogs, cats, and other objects. You'll preprocess the images, then train a convolutional neural network on all the samples. The images need to be normalized and the labels need to be one-hot encoded.  You'll get to apply what you learned and build a convolutional, max pooling, dropout, and fully connected layers.  At the end, you'll get to see your neural network's predictions on the sample images.\n",
    "## Get the Data\n",
    "Run the following cell to download the [CIFAR-10 dataset for python](https://www.cs.toronto.edu/~kriz/cifar-10-python.tar.gz)."
   ]
  },
  {
   "cell_type": "code",
   "execution_count": 1,
   "metadata": {
    "collapsed": false,
    "deletable": true,
    "editable": true
   },
   "outputs": [
    {
     "name": "stderr",
     "output_type": "stream",
     "text": [
      "CIFAR-10 Dataset: 171MB [01:22, 2.06MB/s]                              \n"
     ]
    },
    {
     "name": "stdout",
     "output_type": "stream",
     "text": [
      "All files found!\n"
     ]
    }
   ],
   "source": [
    "\"\"\"\n",
    "DON'T MODIFY ANYTHING IN THIS CELL THAT IS BELOW THIS LINE\n",
    "\"\"\"\n",
    "from urllib.request import urlretrieve\n",
    "from os.path import isfile, isdir\n",
    "from tqdm import tqdm\n",
    "import problem_unittests as tests\n",
    "import tarfile\n",
    "\n",
    "cifar10_dataset_folder_path = 'cifar-10-batches-py'\n",
    "\n",
    "class DLProgress(tqdm):\n",
    "    last_block = 0\n",
    "\n",
    "    def hook(self, block_num=1, block_size=1, total_size=None):\n",
    "        self.total = total_size\n",
    "        self.update((block_num - self.last_block) * block_size)\n",
    "        self.last_block = block_num\n",
    "\n",
    "if not isfile('cifar-10-python.tar.gz'):\n",
    "    with DLProgress(unit='B', unit_scale=True, miniters=1, desc='CIFAR-10 Dataset') as pbar:\n",
    "        urlretrieve(\n",
    "            'https://www.cs.toronto.edu/~kriz/cifar-10-python.tar.gz',\n",
    "            'cifar-10-python.tar.gz',\n",
    "            pbar.hook)\n",
    "\n",
    "if not isdir(cifar10_dataset_folder_path):\n",
    "    with tarfile.open('cifar-10-python.tar.gz') as tar:\n",
    "        tar.extractall()\n",
    "        tar.close()\n",
    "\n",
    "\n",
    "tests.test_folder_path(cifar10_dataset_folder_path)"
   ]
  },
  {
   "cell_type": "markdown",
   "metadata": {
    "deletable": true,
    "editable": true
   },
   "source": [
    "## Explore the Data\n",
    "The dataset is broken into batches to prevent your machine from running out of memory.  The CIFAR-10 dataset consists of 5 batches, named `data_batch_1`, `data_batch_2`, etc.. Each batch contains the labels and images that are one of the following:\n",
    "* airplane\n",
    "* automobile\n",
    "* bird\n",
    "* cat\n",
    "* deer\n",
    "* dog\n",
    "* frog\n",
    "* horse\n",
    "* ship\n",
    "* truck\n",
    "\n",
    "Understanding a dataset is part of making predictions on the data.  Play around with the code cell below by changing the `batch_id` and `sample_id`. The `batch_id` is the id for a batch (1-5). The `sample_id` is the id for a image and label pair in the batch.\n",
    "\n",
    "Ask yourself \"What are all possible labels?\", \"What is the range of values for the image data?\", \"Are the labels in order or random?\".  Answers to questions like these will help you preprocess the data and end up with better predictions."
   ]
  },
  {
   "cell_type": "code",
   "execution_count": 2,
   "metadata": {
    "collapsed": false,
    "deletable": true,
    "editable": true
   },
   "outputs": [
    {
     "name": "stdout",
     "output_type": "stream",
     "text": [
      "\n",
      "Stats of batch 1:\n",
      "Samples: 10000\n",
      "Label Counts: {0: 1005, 1: 974, 2: 1032, 3: 1016, 4: 999, 5: 937, 6: 1030, 7: 1001, 8: 1025, 9: 981}\n",
      "First 20 Labels: [6, 9, 9, 4, 1, 1, 2, 7, 8, 3, 4, 7, 7, 2, 9, 9, 9, 3, 2, 6]\n",
      "\n",
      "Example of Image 1:\n",
      "Image - Min Value: 5 Max Value: 254\n",
      "Image - Shape: (32, 32, 3)\n",
      "Label - Label Id: 9 Name: truck\n"
     ]
    },
    {
     "data": {
      "image/png": "[encoded data removed]",
      "text/plain": [
       "<matplotlib.figure.Figure at 0x7f88992169e8>"
      ]
     },
     "metadata": {
      "image/png": {
       "height": 250,
       "width": 253
      }
     },
     "output_type": "display_data"
    }
   ],
   "source": [
    "%matplotlib inline\n",
    "%config InlineBackend.figure_format = 'retina'\n",
    "\n",
    "import helper\n",
    "import numpy as np\n",
    "\n",
    "# Explore the dataset\n",
    "batch_id = 1\n",
    "sample_id = 1\n",
    "helper.display_stats(cifar10_dataset_folder_path, batch_id, sample_id)"
   ]
  },
  {
   "cell_type": "markdown",
   "metadata": {
    "deletable": true,
    "editable": true
   },
   "source": [
    "## Implement Preprocess Functions\n",
    "### Normalize\n",
    "In the cell below, implement the `normalize` function to take in image data, `x`, and return it as a normalized Numpy array. The values should be in the range of 0 to 1, inclusive.  The return object should be the same shape as `x`."
   ]
  },
  {
   "cell_type": "code",
   "execution_count": 3,
   "metadata": {
    "collapsed": false,
    "deletable": true,
    "editable": true
   },
   "outputs": [
    {
     "name": "stdout",
     "output_type": "stream",
     "text": [
      "Tests Passed\n"
     ]
    }
   ],
   "source": [
    "import numpy\n",
    "\n",
    "def normalize(x):\n",
    "    \"\"\"\n",
    "    Normalize a list of sample image data in the range of 0 to 1\n",
    "    : x: List of image data.  The image shape is (32, 32, 3)\n",
    "    : return: Numpy array of normalize data\n",
    "    \"\"\"\n",
    "    # TODO: Implement Function\n",
    "    ret=[]\n",
    "    for image in x: \n",
    "        ret.append(numpy.divide(image,255.))\n",
    "    return numpy.asarray(ret)\n",
    "\n",
    "\n",
    "\"\"\"\n",
    "DON'T MODIFY ANYTHING IN THIS CELL THAT IS BELOW THIS LINE\n",
    "\"\"\"\n",
    "tests.test_normalize(normalize)"
   ]
  },
  {
   "cell_type": "markdown",
   "metadata": {
    "deletable": true,
    "editable": true
   },
   "source": [
    "### One-hot encode\n",
    "Just like the previous code cell, you'll be implementing a function for preprocessing.  This time, you'll implement the `one_hot_encode` function. The input, `x`, are a list of labels.  Implement the function to return the list of labels as One-Hot encoded Numpy array.  The possible values for labels are 0 to 9. The one-hot encoding function should return the same encoding for each value between each call to `one_hot_encode`.  Make sure to save the map of encodings outside the function.\n",
    "\n",
    "Hint: Don't reinvent the wheel."
   ]
  },
  {
   "cell_type": "code",
   "execution_count": 4,
   "metadata": {
    "collapsed": false,
    "deletable": true,
    "editable": true
   },
   "outputs": [
    {
     "name": "stdout",
     "output_type": "stream",
     "text": [
      "Tests Passed\n"
     ]
    }
   ],
   "source": [
    "import numpy\n",
    "\n",
    "def one_hot_encode(x):\n",
    "    \"\"\"\n",
    "    One hot encode a list of sample labels. Return a one-hot encoded vector for each label.\n",
    "    : x: List of sample Labels\n",
    "    : return: Numpy array of one-hot encoded labels\n",
    "    \"\"\"\n",
    "    arr=numpy.asarray(x)\n",
    "    b = np.zeros((len(arr), 10))\n",
    "    b[np.arange(len(arr)), x] = 1\n",
    "    return b\n",
    "   \n",
    "\n",
    "\"\"\"\n",
    "DON'T MODIFY ANYTHING IN THIS CELL THAT IS BELOW THIS LINE\n",
    "\"\"\"\n",
    "tests.test_one_hot_encode(one_hot_encode)"
   ]
  },
  {
   "cell_type": "markdown",
   "metadata": {
    "deletable": true,
    "editable": true
   },
   "source": [
    "### Randomize Data\n",
    "As you saw from exploring the data above, the order of the samples are randomized.  It doesn't hurt to randomize it again, but you don't need to for this dataset."
   ]
  },
  {
   "cell_type": "markdown",
   "metadata": {
    "deletable": true,
    "editable": true
   },
   "source": [
    "## Preprocess all the data and save it\n",
    "Running the code cell below will preprocess all the CIFAR-10 data and save it to file. The code below also uses 10% of the training data for validation."
   ]
  },
  {
   "cell_type": "code",
   "execution_count": 5,
   "metadata": {
    "collapsed": false,
    "deletable": true,
    "editable": true
   },
   "outputs": [],
   "source": [
    "\"\"\"\n",
    "DON'T MODIFY ANYTHING IN THIS CELL\n",
    "\"\"\"\n",
    "# Preprocess Training, Validation, and Testing Data\n",
    "helper.preprocess_and_save_data(cifar10_dataset_folder_path, normalize, one_hot_encode)"
   ]
  },
  {
   "cell_type": "markdown",
   "metadata": {
    "deletable": true,
    "editable": true
   },
   "source": [
    "# Check Point\n",
    "This is your first checkpoint.  If you ever decide to come back to this notebook or have to restart the notebook, you can start from here.  The preprocessed data has been saved to disk."
   ]
  },
  {
   "cell_type": "code",
   "execution_count": 1,
   "metadata": {
    "collapsed": false,
    "deletable": true,
    "editable": true
   },
   "outputs": [],
   "source": [
    "\"\"\"\n",
    "DON'T MODIFY ANYTHING IN THIS CELL\n",
    "\"\"\"\n",
    "import pickle\n",
    "import problem_unittests as tests\n",
    "import helper\n",
    "\n",
    "# Load the Preprocessed Validation data\n",
    "valid_features, valid_labels = pickle.load(open('preprocess_validation.p', mode='rb'))"
   ]
  },
  {
   "cell_type": "markdown",
   "metadata": {
    "deletable": true,
    "editable": true
   },
   "source": [
    "## Build the network\n",
    "For the neural network, you'll build each layer into a function.  Most of the code you've seen has been outside of functions. To test your code more thoroughly, we require that you put each layer in a function.  This allows us to give you better feedback and test for simple mistakes using our unittests before you submit your project.\n",
    "\n",
    ">**Note:** If you're finding it hard to dedicate enough time for this course each week, we've provided a small shortcut to this part of the project. In the next couple of problems, you'll have the option to use classes from the [TensorFlow Layers](https://www.tensorflow.org/api_docs/python/tf/layers) or [TensorFlow Layers (contrib)](https://www.tensorflow.org/api_guides/python/contrib.layers) packages to build each layer, except the layers you build in the \"Convolutional and Max Pooling Layer\" section.  TF Layers is similar to Keras's and TFLearn's abstraction to layers, so it's easy to pickup.\n",
    "\n",
    ">However, if you would like to get the most out of this course, try to solve all the problems _without_ using anything from the TF Layers packages. You **can** still use classes from other packages that happen to have the same name as ones you find in TF Layers! For example, instead of using the TF Layers version of the `conv2d` class, [tf.layers.conv2d](https://www.tensorflow.org/api_docs/python/tf/layers/conv2d), you would want to use the TF Neural Network version of `conv2d`, [tf.nn.conv2d](https://www.tensorflow.org/api_docs/python/tf/nn/conv2d). \n",
    "\n",
    "Let's begin!\n",
    "\n",
    "### Input\n",
    "The neural network needs to read the image data, one-hot encoded labels, and dropout keep probability. Implement the following functions\n",
    "* Implement `neural_net_image_input`\n",
    " * Return a [TF Placeholder](https://www.tensorflow.org/api_docs/python/tf/placeholder)\n",
    " * Set the shape using `image_shape` with batch size set to `None`.\n",
    " * Name the TensorFlow placeholder \"x\" using the TensorFlow `name` parameter in the [TF Placeholder](https://www.tensorflow.org/api_docs/python/tf/placeholder).\n",
    "* Implement `neural_net_label_input`\n",
    " * Return a [TF Placeholder](https://www.tensorflow.org/api_docs/python/tf/placeholder)\n",
    " * Set the shape using `n_classes` with batch size set to `None`.\n",
    " * Name the TensorFlow placeholder \"y\" using the TensorFlow `name` parameter in the [TF Placeholder](https://www.tensorflow.org/api_docs/python/tf/placeholder).\n",
    "* Implement `neural_net_keep_prob_input`\n",
    " * Return a [TF Placeholder](https://www.tensorflow.org/api_docs/python/tf/placeholder) for dropout keep probability.\n",
    " * Name the TensorFlow placeholder \"keep_prob\" using the TensorFlow `name` parameter in the [TF Placeholder](https://www.tensorflow.org/api_docs/python/tf/placeholder).\n",
    "\n",
    "These names will be used at the end of the project to load your saved model.\n",
    "\n",
    "Note: `None` for shapes in TensorFlow allow for a dynamic size."
   ]
  },
  {
   "cell_type": "code",
   "execution_count": 2,
   "metadata": {
    "collapsed": false,
    "deletable": true,
    "editable": true
   },
   "outputs": [
    {
     "name": "stdout",
     "output_type": "stream",
     "text": [
      "Image Input Tests Passed.\n",
      "Label Input Tests Passed.\n",
      "Keep Prob Tests Passed.\n"
     ]
    }
   ],
   "source": [
    "import tensorflow as tf\n",
    "\n",
    "def neural_net_image_input(image_shape):\n",
    "    \"\"\"\n",
    "    Return a Tensor for a bach of image input\n",
    "    : image_shape: Shape of the images\n",
    "    : return: Tensor for image input.\n",
    "    \"\"\"\n",
    "    # TODO: Implement Function\n",
    "    return tf.placeholder(tf.float32, [None, *image_shape], name='x')\n",
    "\n",
    "\n",
    "def neural_net_label_input(n_classes):\n",
    "    \"\"\"\n",
    "    Return a Tensor for a batch of label input\n",
    "    : n_classes: Number of classes\n",
    "    : return: Tensor for label input.\n",
    "    \"\"\"\n",
    "    # TODO: Implement Function\n",
    "    return tf.placeholder(tf.float32, [None, n_classes], name='y')\n",
    "\n",
    "\n",
    "def neural_net_keep_prob_input():\n",
    "    \"\"\"\n",
    "    Return a Tensor for keep probability\n",
    "    : return: Tensor for keep probability.\n",
    "    \"\"\"\n",
    "    # TODO: Implement Function\n",
    "    return tf.placeholder(tf.float32, name='keep_prob')\n",
    "\n",
    "\n",
    "\"\"\"\n",
    "DON'T MODIFY ANYTHING IN THIS CELL THAT IS BELOW THIS LINE\n",
    "\"\"\"\n",
    "tf.reset_default_graph()\n",
    "tests.test_nn_image_inputs(neural_net_image_input)\n",
    "tests.test_nn_label_inputs(neural_net_label_input)\n",
    "tests.test_nn_keep_prob_inputs(neural_net_keep_prob_input)"
   ]
  },
  {
   "cell_type": "markdown",
   "metadata": {
    "deletable": true,
    "editable": true
   },
   "source": [
    "### Convolution and Max Pooling Layer\n",
    "Convolution layers have a lot of success with images. For this code cell, you should implement the function `conv2d_maxpool` to apply convolution then max pooling:\n",
    "* Create the weight and bias using `conv_ksize`, `conv_num_outputs` and the shape of `x_tensor`.\n",
    "* Apply a convolution to `x_tensor` using weight and `conv_strides`.\n",
    " * We recommend you use same padding, but you're welcome to use any padding.\n",
    "* Add bias\n",
    "* Add a nonlinear activation to the convolution.\n",
    "* Apply Max Pooling using `pool_ksize` and `pool_strides`.\n",
    " * We recommend you use same padding, but you're welcome to use any padding.\n",
    "\n",
    "**Note:** You **can't** use [TensorFlow Layers](https://www.tensorflow.org/api_docs/python/tf/layers) or [TensorFlow Layers (contrib)](https://www.tensorflow.org/api_guides/python/contrib.layers) for **this** layer, but you can still use TensorFlow's [Neural Network](https://www.tensorflow.org/api_docs/python/tf/nn) package. You may still use the shortcut option for all the **other** layers."
   ]
  },
  {
   "cell_type": "code",
   "execution_count": 3,
   "metadata": {
    "collapsed": false,
    "deletable": true,
    "editable": true
   },
   "outputs": [
    {
     "name": "stdout",
     "output_type": "stream",
     "text": [
      "Tests Passed\n"
     ]
    }
   ],
   "source": [
    "def conv2d_maxpool(x_tensor, conv_num_outputs, conv_ksize, conv_strides, pool_ksize, pool_strides):\n",
    "    \"\"\"\n",
    "    Apply convolution then max pooling to x_tensor\n",
    "    :param x_tensor: TensorFlow Tensor\n",
    "    :param conv_num_outputs: Number of outputs for the convolutional layer\n",
    "    :param conv_ksize: kernal size 2-D Tuple for the convolutional layer\n",
    "    :param conv_strides: Stride 2-D Tuple for convolution\n",
    "    :param pool_ksize: kernal size 2-D Tuple for pool\n",
    "    :param pool_strides: Stride 2-D Tuple for pool\n",
    "    : return: A tensor that represents convolution and max pooling of x_tensor\n",
    "    \"\"\"\n",
    "    # TODO: Implement Function\n",
    "    \n",
    "    pool_ksize = [1, *pool_ksize, 1]\n",
    "    pool_strides = [1, *pool_strides, 1]\n",
    "\n",
    "    \n",
    "    conv_strides = [1, *conv_strides, 1]\n",
    "    \n",
    "    W = tf.Variable(tf.random_normal([*conv_ksize, int(x_tensor.shape[3]),conv_num_outputs],stddev=0.01))\n",
    "    b = tf.Variable(tf.zeros(conv_num_outputs))\n",
    "    \n",
    "    x = tf.nn.conv2d(x_tensor, W, strides=conv_strides, padding='SAME')    \n",
    "    x = tf.nn.bias_add(x, b)\n",
    "    x = tf.nn.relu(x)\n",
    "    x = tf.nn.max_pool(x, pool_ksize, pool_strides, padding='SAME')\n",
    "    return x\n",
    "\n",
    "\n",
    "\"\"\"\n",
    "DON'T MODIFY ANYTHING IN THIS CELL THAT IS BELOW THIS LINE\n",
    "\"\"\"\n",
    "tests.test_con_pool(conv2d_maxpool)"
   ]
  },
  {
   "cell_type": "markdown",
   "metadata": {
    "deletable": true,
    "editable": true
   },
   "source": [
    "### Flatten Layer\n",
    "Implement the `flatten` function to change the dimension of `x_tensor` from a 4-D tensor to a 2-D tensor.  The output should be the shape (*Batch Size*, *Flattened Image Size*). Shortcut option: you can use classes from the [TensorFlow Layers](https://www.tensorflow.org/api_docs/python/tf/layers) or [TensorFlow Layers (contrib)](https://www.tensorflow.org/api_guides/python/contrib.layers) packages for this layer. For more of a challenge, only use other TensorFlow packages."
   ]
  },
  {
   "cell_type": "code",
   "execution_count": 4,
   "metadata": {
    "collapsed": false,
    "deletable": true,
    "editable": true
   },
   "outputs": [
    {
     "name": "stdout",
     "output_type": "stream",
     "text": [
      "Tests Passed\n"
     ]
    }
   ],
   "source": [
    "def flatten(x_tensor):\n",
    "    \"\"\"\n",
    "    Flatten x_tensor to (Batch Size, Flattened Image Size)\n",
    "    : x_tensor: A tensor of size (Batch Size, ...), where ... are the image dimensions.\n",
    "    : return: A tensor of size (Batch Size, Flattened Image Size).\n",
    "    \"\"\"\n",
    "    # TODO: Implement Function\n",
    "    _, *image_size = x_tensor.get_shape().as_list()\n",
    "    image_size = image_size[0] * image_size[1] * image_size[2]\n",
    "    return tf.reshape(x_tensor, [-1, image_size])\n",
    "\n",
    "\n",
    "\"\"\"\n",
    "DON'T MODIFY ANYTHING IN THIS CELL THAT IS BELOW THIS LINE\n",
    "\"\"\"\n",
    "tests.test_flatten(flatten)"
   ]
  },
  {
   "cell_type": "markdown",
   "metadata": {
    "deletable": true,
    "editable": true
   },
   "source": [
    "### Fully-Connected Layer\n",
    "Implement the `fully_conn` function to apply a fully connected layer to `x_tensor` with the shape (*Batch Size*, *num_outputs*). Shortcut option: you can use classes from the [TensorFlow Layers](https://www.tensorflow.org/api_docs/python/tf/layers) or [TensorFlow Layers (contrib)](https://www.tensorflow.org/api_guides/python/contrib.layers) packages for this layer. For more of a challenge, only use other TensorFlow packages."
   ]
  },
  {
   "cell_type": "code",
   "execution_count": 5,
   "metadata": {
    "collapsed": false,
    "deletable": true,
    "editable": true
   },
   "outputs": [
    {
     "name": "stdout",
     "output_type": "stream",
     "text": [
      "Tests Passed\n"
     ]
    }
   ],
   "source": [
    "def fully_conn(x_tensor, num_outputs):\n",
    "    \"\"\"\n",
    "    Apply a fully connected layer to x_tensor using weight and bias\n",
    "    : x_tensor: A 2-D tensor where the first dimension is batch size.\n",
    "    : num_outputs: The number of output that the new tensor should be.\n",
    "    : return: A 2-D tensor where the second dimension is num_outputs.\n",
    "    \"\"\"\n",
    "    # TODO: Implement Function\n",
    "    W = tf.Variable(tf.random_normal((int(x_tensor.get_shape().as_list()[1]), num_outputs),stddev=0.01))\n",
    "    b = tf.Variable(tf.zeros(num_outputs))\n",
    "    x = tf.add(tf.matmul(x_tensor, W), b)\n",
    "    x = tf.nn.relu(x)\n",
    "    return x\n",
    "\n",
    "\n",
    "\"\"\"\n",
    "DON'T MODIFY ANYTHING IN THIS CELL THAT IS BELOW THIS LINE\n",
    "\"\"\"\n",
    "tests.test_fully_conn(fully_conn)"
   ]
  },
  {
   "cell_type": "markdown",
   "metadata": {
    "deletable": true,
    "editable": true
   },
   "source": [
    "### Output Layer\n",
    "Implement the `output` function to apply a fully connected layer to `x_tensor` with the shape (*Batch Size*, *num_outputs*). Shortcut option: you can use classes from the [TensorFlow Layers](https://www.tensorflow.org/api_docs/python/tf/layers) or [TensorFlow Layers (contrib)](https://www.tensorflow.org/api_guides/python/contrib.layers) packages for this layer. For more of a challenge, only use other TensorFlow packages.\n",
    "\n",
    "**Note:** Activation, softmax, or cross entropy should **not** be applied to this."
   ]
  },
  {
   "cell_type": "code",
   "execution_count": 6,
   "metadata": {
    "collapsed": false,
    "deletable": true,
    "editable": true
   },
   "outputs": [
    {
     "name": "stdout",
     "output_type": "stream",
     "text": [
      "Tests Passed\n"
     ]
    }
   ],
   "source": [
    "def output(x_tensor, num_outputs):\n",
    "    \"\"\"\n",
    "    Apply a output layer to x_tensor using weight and bias\n",
    "    : x_tensor: A 2-D tensor where the first dimension is batch size.\n",
    "    : num_outputs: The number of output that the new tensor should be.\n",
    "    : return: A 2-D tensor where the second dimension is num_outputs.\n",
    "    \"\"\"\n",
    "    # TODO: Implement Function\n",
    "    W = tf.Variable(tf.random_normal((int(x_tensor.get_shape().as_list()[1]), num_outputs),stddev=0.01))\n",
    "    b = tf.Variable(tf.zeros(num_outputs))\n",
    "    x = tf.add(tf.matmul(x_tensor, W), b)\n",
    "    return x\n",
    "\n",
    "\n",
    "\"\"\"\n",
    "DON'T MODIFY ANYTHING IN THIS CELL THAT IS BELOW THIS LINE\n",
    "\"\"\"\n",
    "tests.test_output(output)"
   ]
  },
  {
   "cell_type": "markdown",
   "metadata": {
    "deletable": true,
    "editable": true
   },
   "source": [
    "### Create Convolutional Model\n",
    "Implement the function `conv_net` to create a convolutional neural network model. The function takes in a batch of images, `x`, and outputs logits.  Use the layers you created above to create this model:\n",
    "\n",
    "* Apply 1, 2, or 3 Convolution and Max Pool layers\n",
    "* Apply a Flatten Layer\n",
    "* Apply 1, 2, or 3 Fully Connected Layers\n",
    "* Apply an Output Layer\n",
    "* Return the output\n",
    "* Apply [TensorFlow's Dropout](https://www.tensorflow.org/api_docs/python/tf/nn/dropout) to one or more layers in the model using `keep_prob`. "
   ]
  },
  {
   "cell_type": "code",
   "execution_count": 7,
   "metadata": {
    "collapsed": false,
    "deletable": true,
    "editable": true
   },
   "outputs": [
    {
     "name": "stdout",
     "output_type": "stream",
     "text": [
      "Neural Network Built!\n"
     ]
    }
   ],
   "source": [
    "def conv_net(x, keep_prob):\n",
    "    with tf.device('/gpu:0'):\n",
    "        \"\"\"\n",
    "        Create a convolutional neural network model\n",
    "        : x: Placeholder tensor that holds image data.\n",
    "        : keep_prob: Placeholder tensor that hold dropout keep probability.\n",
    "        : return: Tensor that represents logits\n",
    "        \"\"\"\n",
    "        # TODO: Apply 1, 2, or 3 Convolution and Max Pool layers\n",
    "        #    Play around with different number of outputs, kernel size and stride\n",
    "        # Function Definition from Above:\n",
    "        #    conv2d_maxpool(x_tensor, conv_num_outputs, conv_ksize, conv_strides, pool_ksize, pool_strides)\n",
    "        x = conv2d_maxpool(x, 32, (3, 3), (1, 1), (2, 2), (2, 2))\n",
    "        x = conv2d_maxpool(x, 32, (3, 3), (2, 2), (2, 2), (2, 2))\n",
    "        x = conv2d_maxpool(x, 64, (3, 3), (1, 1), (2, 2), (2, 2))\n",
    "\n",
    "        # TODO: Apply a Flatten Layer\n",
    "        # Function Definition from Above:\n",
    "        #   flatten(x_tensor)\n",
    "        x = flatten(x)\n",
    "\n",
    "        # TODO: Apply 1, 2, or 3 Fully Connected Layers\n",
    "        #    Play around with different number of outputs\n",
    "        # Function Definition from Above:\n",
    "        #   fully_conn(x_tensor, num_outputs)\n",
    "        x = fully_conn(x, 512)\n",
    "        x = tf.nn.dropout(x, keep_prob)\n",
    "        x = fully_conn(x, 128)\n",
    "        x = tf.nn.dropout(x, keep_prob)\n",
    "\n",
    "        # TODO: Apply an Output Layer\n",
    "        #    Set this to the number of classes\n",
    "        # Function Definition from Above:\n",
    "        #   output(x_tensor, num_outputs)\n",
    "        a = output(x, 10)\n",
    "\n",
    "        # TODO: return output\n",
    "        return a\n",
    "\n",
    "\n",
    "\"\"\"\n",
    "DON'T MODIFY ANYTHING IN THIS CELL THAT IS BELOW THIS LINE\n",
    "\"\"\"\n",
    "\n",
    "##############################\n",
    "## Build the Neural Network ##\n",
    "##############################\n",
    "\n",
    "# Remove previous weights, bias, inputs, etc..\n",
    "tf.reset_default_graph()\n",
    "\n",
    "# Inputs\n",
    "x = neural_net_image_input((32, 32, 3))\n",
    "y = neural_net_label_input(10)\n",
    "keep_prob = neural_net_keep_prob_input()\n",
    "\n",
    "# Model\n",
    "logits = conv_net(x, keep_prob)\n",
    "\n",
    "# Name logits Tensor, so that is can be loaded from disk after training\n",
    "logits = tf.identity(logits, name='logits')\n",
    "\n",
    "# Loss and Optimizer\n",
    "cost = tf.reduce_mean(tf.nn.softmax_cross_entropy_with_logits(logits=logits, labels=y))\n",
    "optimizer = tf.train.AdamOptimizer().minimize(cost)\n",
    "\n",
    "# Accuracy\n",
    "correct_pred = tf.equal(tf.argmax(logits, 1), tf.argmax(y, 1))\n",
    "accuracy = tf.reduce_mean(tf.cast(correct_pred, tf.float32), name='accuracy')\n",
    "\n",
    "tests.test_conv_net(conv_net)"
   ]
  },
  {
   "cell_type": "markdown",
   "metadata": {
    "deletable": true,
    "editable": true
   },
   "source": [
    "## Train the Neural Network\n",
    "### Single Optimization\n",
    "Implement the function `train_neural_network` to do a single optimization.  The optimization should use `optimizer` to optimize in `session` with a `feed_dict` of the following:\n",
    "* `x` for image input\n",
    "* `y` for labels\n",
    "* `keep_prob` for keep probability for dropout\n",
    "\n",
    "This function will be called for each batch, so `tf.global_variables_initializer()` has already been called.\n",
    "\n",
    "Note: Nothing needs to be returned. This function is only optimizing the neural network."
   ]
  },
  {
   "cell_type": "code",
   "execution_count": 8,
   "metadata": {
    "collapsed": false,
    "deletable": true,
    "editable": true
   },
   "outputs": [
    {
     "name": "stdout",
     "output_type": "stream",
     "text": [
      "Tests Passed\n"
     ]
    }
   ],
   "source": [
    "def train_neural_network(session, optimizer, keep_probability, feature_batch, label_batch):\n",
    "    \"\"\"\n",
    "    Optimize the session on a batch of images and labels\n",
    "    : session: Current TensorFlow session\n",
    "    : optimizer: TensorFlow optimizer function\n",
    "    : keep_probability: keep probability\n",
    "    : feature_batch: Batch of Numpy image data\n",
    "    : label_batch: Batch of Numpy label data\n",
    "    \"\"\"\n",
    "    # TODO: Implement Function\n",
    "    session.run(optimizer, feed_dict={\n",
    "        x: feature_batch,\n",
    "        y: label_batch,\n",
    "        keep_prob: keep_probability\n",
    "    })\n",
    "\n",
    "\n",
    "\"\"\"\n",
    "DON'T MODIFY ANYTHING IN THIS CELL THAT IS BELOW THIS LINE\n",
    "\"\"\"\n",
    "tests.test_train_nn(train_neural_network)"
   ]
  },
  {
   "cell_type": "markdown",
   "metadata": {
    "deletable": true,
    "editable": true
   },
   "source": [
    "### Show Stats\n",
    "Implement the function `print_stats` to print loss and validation accuracy.  Use the global variables `valid_features` and `valid_labels` to calculate validation accuracy.  Use a keep probability of `1.0` to calculate the loss and validation accuracy."
   ]
  },
  {
   "cell_type": "code",
   "execution_count": 9,
   "metadata": {
    "collapsed": false,
    "deletable": true,
    "editable": true
   },
   "outputs": [],
   "source": [
    "def print_stats(session, feature_batch, label_batch, cost, accuracy):\n",
    "    \"\"\"\n",
    "    Print information about loss and validation accuracy\n",
    "    : session: Current TensorFlow session\n",
    "    : feature_batch: Batch of Numpy image data\n",
    "    : label_batch: Batch of Numpy label data\n",
    "    : cost: TensorFlow cost function\n",
    "    : accuracy: TensorFlow accuracy function\n",
    "    \"\"\"\n",
    "    # TODO: Implement Function\n",
    "    l = session.run(cost, feed_dict={x: feature_batch,y: label_batch,keep_prob: 1.})\n",
    "    \n",
    "    acc = session.run(accuracy, feed_dict={x: valid_features, y: valid_labels, keep_prob: 1. })\n",
    "\n",
    "    print('Loss: {:>10.4f} accuracy: {:.6f}'.format(l, acc))"
   ]
  },
  {
   "cell_type": "markdown",
   "metadata": {
    "deletable": true,
    "editable": true
   },
   "source": [
    "### Hyperparameters\n",
    "Tune the following parameters:\n",
    "* Set `epochs` to the number of iterations until the network stops learning or start overfitting\n",
    "* Set `batch_size` to the highest number that your machine has memory for.  Most people set them to common sizes of memory:\n",
    " * 64\n",
    " * 128\n",
    " * 256\n",
    " * ...\n",
    "* Set `keep_probability` to the probability of keeping a node using dropout"
   ]
  },
  {
   "cell_type": "code",
   "execution_count": 11,
   "metadata": {
    "collapsed": true,
    "deletable": true,
    "editable": true
   },
   "outputs": [],
   "source": [
    "# TODO: Tune Parameters\n",
    "epochs = 1\n",
    "batch_size = 512\n",
    "keep_probability = 0.6"
   ]
  },
  {
   "cell_type": "markdown",
   "metadata": {
    "deletable": true,
    "editable": true
   },
   "source": [
    "### Train on a Single CIFAR-10 Batch\n",
    "Instead of training the neural network on all the CIFAR-10 batches of data, let's use a single batch. This should save time while you iterate on the model to get a better accuracy.  Once the final validation accuracy is 50% or greater, run the model on all the data in the next section."
   ]
  },
  {
   "cell_type": "code",
   "execution_count": 12,
   "metadata": {
    "collapsed": false,
    "deletable": true,
    "editable": true
   },
   "outputs": [
    {
     "name": "stdout",
     "output_type": "stream",
     "text": [
      "Checking the Training on a Single Batch...\n"
     ]
    },
    {
     "ename": "InvalidArgumentError",
     "evalue": "Cannot assign a device to node 'Variable_23': Could not satisfy explicit device specification '/device:GPU:0' because no devices matching that specification are registered in this process; available devices: /job:localhost/replica:0/task:0/cpu:0\nColocation Debug Info:\nColocation group had the following types and devices: \nAssign: CPU \nIdentity: CPU \nVariableV2: CPU \n\t [[Node: Variable_23 = VariableV2[container=\"\", dtype=DT_FLOAT, shape=[10], shared_name=\"\", _device=\"/device:GPU:0\"]()]]\n\nCaused by op 'Variable_23', defined at:\n  File \"/usr/lib/python3.5/runpy.py\", line 184, in _run_module_as_main\n    \"__main__\", mod_spec)\n  File \"/usr/lib/python3.5/runpy.py\", line 85, in _run_code\n    exec(code, run_globals)\n  File \"/home/davi/Dropbox/Programming/Udacity-ML/image-classification/py3-tensorflow/lib/python3.5/site-packages/ipykernel/__main__.py\", line 3, in <module>\n    app.launch_new_instance()\n  File \"/home/davi/Dropbox/Programming/Udacity-ML/image-classification/py3-tensorflow/lib/python3.5/site-packages/traitlets/config/application.py\", line 658, in launch_instance\n    app.start()\n  File \"/home/davi/Dropbox/Programming/Udacity-ML/image-classification/py3-tensorflow/lib/python3.5/site-packages/ipykernel/kernelapp.py\", line 474, in start\n    ioloop.IOLoop.instance().start()\n  File \"/home/davi/Dropbox/Programming/Udacity-ML/image-classification/py3-tensorflow/lib/python3.5/site-packages/zmq/eventloop/ioloop.py\", line 177, in start\n    super(ZMQIOLoop, self).start()\n  File \"/home/davi/Dropbox/Programming/Udacity-ML/image-classification/py3-tensorflow/lib/python3.5/site-packages/tornado/ioloop.py\", line 887, in start\n    handler_func(fd_obj, events)\n  File \"/home/davi/Dropbox/Programming/Udacity-ML/image-classification/py3-tensorflow/lib/python3.5/site-packages/tornado/stack_context.py\", line 275, in null_wrapper\n    return fn(*args, **kwargs)\n  File \"/home/davi/Dropbox/Programming/Udacity-ML/image-classification/py3-tensorflow/lib/python3.5/site-packages/zmq/eventloop/zmqstream.py\", line 440, in _handle_events\n    self._handle_recv()\n  File \"/home/davi/Dropbox/Programming/Udacity-ML/image-classification/py3-tensorflow/lib/python3.5/site-packages/zmq/eventloop/zmqstream.py\", line 472, in _handle_recv\n    self._run_callback(callback, msg)\n  File \"/home/davi/Dropbox/Programming/Udacity-ML/image-classification/py3-tensorflow/lib/python3.5/site-packages/zmq/eventloop/zmqstream.py\", line 414, in _run_callback\n    callback(*args, **kwargs)\n  File \"/home/davi/Dropbox/Programming/Udacity-ML/image-classification/py3-tensorflow/lib/python3.5/site-packages/tornado/stack_context.py\", line 275, in null_wrapper\n    return fn(*args, **kwargs)\n  File \"/home/davi/Dropbox/Programming/Udacity-ML/image-classification/py3-tensorflow/lib/python3.5/site-packages/ipykernel/kernelbase.py\", line 276, in dispatcher\n    return self.dispatch_shell(stream, msg)\n  File \"/home/davi/Dropbox/Programming/Udacity-ML/image-classification/py3-tensorflow/lib/python3.5/site-packages/ipykernel/kernelbase.py\", line 228, in dispatch_shell\n    handler(stream, idents, msg)\n  File \"/home/davi/Dropbox/Programming/Udacity-ML/image-classification/py3-tensorflow/lib/python3.5/site-packages/ipykernel/kernelbase.py\", line 390, in execute_request\n    user_expressions, allow_stdin)\n  File \"/home/davi/Dropbox/Programming/Udacity-ML/image-classification/py3-tensorflow/lib/python3.5/site-packages/ipykernel/ipkernel.py\", line 196, in do_execute\n    res = shell.run_cell(code, store_history=store_history, silent=silent)\n  File \"/home/davi/Dropbox/Programming/Udacity-ML/image-classification/py3-tensorflow/lib/python3.5/site-packages/ipykernel/zmqshell.py\", line 501, in run_cell\n    return super(ZMQInteractiveShell, self).run_cell(*args, **kwargs)\n  File \"/home/davi/Dropbox/Programming/Udacity-ML/image-classification/py3-tensorflow/lib/python3.5/site-packages/IPython/core/interactiveshell.py\", line 2717, in run_cell\n    interactivity=interactivity, compiler=compiler, result=result)\n  File \"/home/davi/Dropbox/Programming/Udacity-ML/image-classification/py3-tensorflow/lib/python3.5/site-packages/IPython/core/interactiveshell.py\", line 2827, in run_ast_nodes\n    if self.run_code(code, result):\n  File \"/home/davi/Dropbox/Programming/Udacity-ML/image-classification/py3-tensorflow/lib/python3.5/site-packages/IPython/core/interactiveshell.py\", line 2881, in run_code\n    exec(code_obj, self.user_global_ns, self.user_ns)\n  File \"<ipython-input-7-7b49a1f02249>\", line 71, in <module>\n    tests.test_conv_net(conv_net)\n  File \"/home/davi/Dropbox/Programming/Udacity-ML/image-classification/problem_unittests.py\", line 179, in test_conv_net\n    logits_out = conv_net(test_x, test_k)\n  File \"<ipython-input-7-7b49a1f02249>\", line 35, in conv_net\n    a = output(x, 10)\n  File \"<ipython-input-6-afa8be169c8f>\", line 10, in output\n    b = tf.Variable(tf.zeros(num_outputs))\n  File \"/home/davi/Dropbox/Programming/Udacity-ML/image-classification/py3-tensorflow/lib/python3.5/site-packages/tensorflow/python/ops/variables.py\", line 197, in __init__\n    expected_shape=expected_shape)\n  File \"/home/davi/Dropbox/Programming/Udacity-ML/image-classification/py3-tensorflow/lib/python3.5/site-packages/tensorflow/python/ops/variables.py\", line 293, in _init_from_args\n    name=name)\n  File \"/home/davi/Dropbox/Programming/Udacity-ML/image-classification/py3-tensorflow/lib/python3.5/site-packages/tensorflow/python/ops/state_ops.py\", line 128, in variable_op_v2\n    shared_name=shared_name)\n  File \"/home/davi/Dropbox/Programming/Udacity-ML/image-classification/py3-tensorflow/lib/python3.5/site-packages/tensorflow/python/ops/gen_state_ops.py\", line 708, in _variable_v2\n    name=name)\n  File \"/home/davi/Dropbox/Programming/Udacity-ML/image-classification/py3-tensorflow/lib/python3.5/site-packages/tensorflow/python/framework/op_def_library.py\", line 763, in apply_op\n    op_def=op_def)\n  File \"/home/davi/Dropbox/Programming/Udacity-ML/image-classification/py3-tensorflow/lib/python3.5/site-packages/tensorflow/python/framework/ops.py\", line 2327, in create_op\n    original_op=self._default_original_op, op_def=op_def)\n  File \"/home/davi/Dropbox/Programming/Udacity-ML/image-classification/py3-tensorflow/lib/python3.5/site-packages/tensorflow/python/framework/ops.py\", line 1226, in __init__\n    self._traceback = _extract_stack()\n\nInvalidArgumentError (see above for traceback): Cannot assign a device to node 'Variable_23': Could not satisfy explicit device specification '/device:GPU:0' because no devices matching that specification are registered in this process; available devices: /job:localhost/replica:0/task:0/cpu:0\nColocation Debug Info:\nColocation group had the following types and devices: \nAssign: CPU \nIdentity: CPU \nVariableV2: CPU \n\t [[Node: Variable_23 = VariableV2[container=\"\", dtype=DT_FLOAT, shape=[10], shared_name=\"\", _device=\"/device:GPU:0\"]()]]\n",
     "output_type": "error",
     "traceback": [
      "\u001b[0;31m---------------------------------------------------------------------------\u001b[0m",
      "\u001b[0;31mInvalidArgumentError\u001b[0m                      Traceback (most recent call last)",
      "\u001b[0;32m/home/davi/Dropbox/Programming/Udacity-ML/image-classification/py3-tensorflow/lib/python3.5/site-packages/tensorflow/python/client/session.py\u001b[0m in \u001b[0;36m_do_call\u001b[0;34m(self, fn, *args)\u001b[0m\n\u001b[1;32m   1021\u001b[0m     \u001b[0;32mtry\u001b[0m\u001b[0;34m:\u001b[0m\u001b[0;34m\u001b[0m\u001b[0m\n\u001b[0;32m-> 1022\u001b[0;31m       \u001b[0;32mreturn\u001b[0m \u001b[0mfn\u001b[0m\u001b[0;34m(\u001b[0m\u001b[0;34m*\u001b[0m\u001b[0margs\u001b[0m\u001b[0;34m)\u001b[0m\u001b[0;34m\u001b[0m\u001b[0m\n\u001b[0m\u001b[1;32m   1023\u001b[0m     \u001b[0;32mexcept\u001b[0m \u001b[0merrors\u001b[0m\u001b[0;34m.\u001b[0m\u001b[0mOpError\u001b[0m \u001b[0;32mas\u001b[0m \u001b[0me\u001b[0m\u001b[0;34m:\u001b[0m\u001b[0;34m\u001b[0m\u001b[0m\n",
      "\u001b[0;32m/home/davi/Dropbox/Programming/Udacity-ML/image-classification/py3-tensorflow/lib/python3.5/site-packages/tensorflow/python/client/session.py\u001b[0m in \u001b[0;36m_run_fn\u001b[0;34m(session, feed_dict, fetch_list, target_list, options, run_metadata)\u001b[0m\n\u001b[1;32m    999\u001b[0m       \u001b[0;31m# Ensure any changes to the graph are reflected in the runtime.\u001b[0m\u001b[0;34m\u001b[0m\u001b[0;34m\u001b[0m\u001b[0m\n\u001b[0;32m-> 1000\u001b[0;31m       \u001b[0mself\u001b[0m\u001b[0;34m.\u001b[0m\u001b[0m_extend_graph\u001b[0m\u001b[0;34m(\u001b[0m\u001b[0;34m)\u001b[0m\u001b[0;34m\u001b[0m\u001b[0m\n\u001b[0m\u001b[1;32m   1001\u001b[0m       \u001b[0;32mwith\u001b[0m \u001b[0merrors\u001b[0m\u001b[0;34m.\u001b[0m\u001b[0mraise_exception_on_not_ok_status\u001b[0m\u001b[0;34m(\u001b[0m\u001b[0;34m)\u001b[0m \u001b[0;32mas\u001b[0m \u001b[0mstatus\u001b[0m\u001b[0;34m:\u001b[0m\u001b[0;34m\u001b[0m\u001b[0m\n",
      "\u001b[0;32m/home/davi/Dropbox/Programming/Udacity-ML/image-classification/py3-tensorflow/lib/python3.5/site-packages/tensorflow/python/client/session.py\u001b[0m in \u001b[0;36m_extend_graph\u001b[0;34m(self)\u001b[0m\n\u001b[1;32m   1048\u001b[0m           tf_session.TF_ExtendGraph(\n\u001b[0;32m-> 1049\u001b[0;31m               self._session, graph_def.SerializeToString(), status)\n\u001b[0m\u001b[1;32m   1050\u001b[0m         \u001b[0mself\u001b[0m\u001b[0;34m.\u001b[0m\u001b[0m_opened\u001b[0m \u001b[0;34m=\u001b[0m \u001b[0;32mTrue\u001b[0m\u001b[0;34m\u001b[0m\u001b[0m\n",
      "\u001b[0;32m/usr/lib/python3.5/contextlib.py\u001b[0m in \u001b[0;36m__exit__\u001b[0;34m(self, type, value, traceback)\u001b[0m\n\u001b[1;32m     65\u001b[0m             \u001b[0;32mtry\u001b[0m\u001b[0;34m:\u001b[0m\u001b[0;34m\u001b[0m\u001b[0m\n\u001b[0;32m---> 66\u001b[0;31m                 \u001b[0mnext\u001b[0m\u001b[0;34m(\u001b[0m\u001b[0mself\u001b[0m\u001b[0;34m.\u001b[0m\u001b[0mgen\u001b[0m\u001b[0;34m)\u001b[0m\u001b[0;34m\u001b[0m\u001b[0m\n\u001b[0m\u001b[1;32m     67\u001b[0m             \u001b[0;32mexcept\u001b[0m \u001b[0mStopIteration\u001b[0m\u001b[0;34m:\u001b[0m\u001b[0;34m\u001b[0m\u001b[0m\n",
      "\u001b[0;32m/home/davi/Dropbox/Programming/Udacity-ML/image-classification/py3-tensorflow/lib/python3.5/site-packages/tensorflow/python/framework/errors_impl.py\u001b[0m in \u001b[0;36mraise_exception_on_not_ok_status\u001b[0;34m()\u001b[0m\n\u001b[1;32m    465\u001b[0m           \u001b[0mcompat\u001b[0m\u001b[0;34m.\u001b[0m\u001b[0mas_text\u001b[0m\u001b[0;34m(\u001b[0m\u001b[0mpywrap_tensorflow\u001b[0m\u001b[0;34m.\u001b[0m\u001b[0mTF_Message\u001b[0m\u001b[0;34m(\u001b[0m\u001b[0mstatus\u001b[0m\u001b[0;34m)\u001b[0m\u001b[0;34m)\u001b[0m\u001b[0;34m,\u001b[0m\u001b[0;34m\u001b[0m\u001b[0m\n\u001b[0;32m--> 466\u001b[0;31m           pywrap_tensorflow.TF_GetCode(status))\n\u001b[0m\u001b[1;32m    467\u001b[0m   \u001b[0;32mfinally\u001b[0m\u001b[0;34m:\u001b[0m\u001b[0;34m\u001b[0m\u001b[0m\n",
      "\u001b[0;31mInvalidArgumentError\u001b[0m: Cannot assign a device to node 'Variable_23': Could not satisfy explicit device specification '/device:GPU:0' because no devices matching that specification are registered in this process; available devices: /job:localhost/replica:0/task:0/cpu:0\nColocation Debug Info:\nColocation group had the following types and devices: \nAssign: CPU \nIdentity: CPU \nVariableV2: CPU \n\t [[Node: Variable_23 = VariableV2[container=\"\", dtype=DT_FLOAT, shape=[10], shared_name=\"\", _device=\"/device:GPU:0\"]()]]",
      "\nDuring handling of the above exception, another exception occurred:\n",
      "\u001b[0;31mInvalidArgumentError\u001b[0m                      Traceback (most recent call last)",
      "\u001b[0;32m<ipython-input-12-8027034dd185>\u001b[0m in \u001b[0;36m<module>\u001b[0;34m()\u001b[0m\n\u001b[1;32m      5\u001b[0m \u001b[0;32mwith\u001b[0m \u001b[0mtf\u001b[0m\u001b[0;34m.\u001b[0m\u001b[0mSession\u001b[0m\u001b[0;34m(\u001b[0m\u001b[0mconfig\u001b[0m\u001b[0;34m=\u001b[0m\u001b[0mtf\u001b[0m\u001b[0;34m.\u001b[0m\u001b[0mConfigProto\u001b[0m\u001b[0;34m(\u001b[0m\u001b[0mlog_device_placement\u001b[0m\u001b[0;34m=\u001b[0m\u001b[0;32mTrue\u001b[0m\u001b[0;34m)\u001b[0m\u001b[0;34m)\u001b[0m \u001b[0;32mas\u001b[0m \u001b[0msess\u001b[0m\u001b[0;34m:\u001b[0m\u001b[0;34m\u001b[0m\u001b[0m\n\u001b[1;32m      6\u001b[0m     \u001b[0;31m# Initializing the variables\u001b[0m\u001b[0;34m\u001b[0m\u001b[0;34m\u001b[0m\u001b[0m\n\u001b[0;32m----> 7\u001b[0;31m     \u001b[0msess\u001b[0m\u001b[0;34m.\u001b[0m\u001b[0mrun\u001b[0m\u001b[0;34m(\u001b[0m\u001b[0mtf\u001b[0m\u001b[0;34m.\u001b[0m\u001b[0mglobal_variables_initializer\u001b[0m\u001b[0;34m(\u001b[0m\u001b[0;34m)\u001b[0m\u001b[0;34m)\u001b[0m\u001b[0;34m\u001b[0m\u001b[0m\n\u001b[0m\u001b[1;32m      8\u001b[0m \u001b[0;34m\u001b[0m\u001b[0m\n\u001b[1;32m      9\u001b[0m     \u001b[0;31m# Training cycle\u001b[0m\u001b[0;34m\u001b[0m\u001b[0;34m\u001b[0m\u001b[0m\n",
      "\u001b[0;32m/home/davi/Dropbox/Programming/Udacity-ML/image-classification/py3-tensorflow/lib/python3.5/site-packages/tensorflow/python/client/session.py\u001b[0m in \u001b[0;36mrun\u001b[0;34m(self, fetches, feed_dict, options, run_metadata)\u001b[0m\n\u001b[1;32m    765\u001b[0m     \u001b[0;32mtry\u001b[0m\u001b[0;34m:\u001b[0m\u001b[0;34m\u001b[0m\u001b[0m\n\u001b[1;32m    766\u001b[0m       result = self._run(None, fetches, feed_dict, options_ptr,\n\u001b[0;32m--> 767\u001b[0;31m                          run_metadata_ptr)\n\u001b[0m\u001b[1;32m    768\u001b[0m       \u001b[0;32mif\u001b[0m \u001b[0mrun_metadata\u001b[0m\u001b[0;34m:\u001b[0m\u001b[0;34m\u001b[0m\u001b[0m\n\u001b[1;32m    769\u001b[0m         \u001b[0mproto_data\u001b[0m \u001b[0;34m=\u001b[0m \u001b[0mtf_session\u001b[0m\u001b[0;34m.\u001b[0m\u001b[0mTF_GetBuffer\u001b[0m\u001b[0;34m(\u001b[0m\u001b[0mrun_metadata_ptr\u001b[0m\u001b[0;34m)\u001b[0m\u001b[0;34m\u001b[0m\u001b[0m\n",
      "\u001b[0;32m/home/davi/Dropbox/Programming/Udacity-ML/image-classification/py3-tensorflow/lib/python3.5/site-packages/tensorflow/python/client/session.py\u001b[0m in \u001b[0;36m_run\u001b[0;34m(self, handle, fetches, feed_dict, options, run_metadata)\u001b[0m\n\u001b[1;32m    963\u001b[0m     \u001b[0;32mif\u001b[0m \u001b[0mfinal_fetches\u001b[0m \u001b[0;32mor\u001b[0m \u001b[0mfinal_targets\u001b[0m\u001b[0;34m:\u001b[0m\u001b[0;34m\u001b[0m\u001b[0m\n\u001b[1;32m    964\u001b[0m       results = self._do_run(handle, final_targets, final_fetches,\n\u001b[0;32m--> 965\u001b[0;31m                              feed_dict_string, options, run_metadata)\n\u001b[0m\u001b[1;32m    966\u001b[0m     \u001b[0;32melse\u001b[0m\u001b[0;34m:\u001b[0m\u001b[0;34m\u001b[0m\u001b[0m\n\u001b[1;32m    967\u001b[0m       \u001b[0mresults\u001b[0m \u001b[0;34m=\u001b[0m \u001b[0;34m[\u001b[0m\u001b[0;34m]\u001b[0m\u001b[0;34m\u001b[0m\u001b[0m\n",
      "\u001b[0;32m/home/davi/Dropbox/Programming/Udacity-ML/image-classification/py3-tensorflow/lib/python3.5/site-packages/tensorflow/python/client/session.py\u001b[0m in \u001b[0;36m_do_run\u001b[0;34m(self, handle, target_list, fetch_list, feed_dict, options, run_metadata)\u001b[0m\n\u001b[1;32m   1013\u001b[0m     \u001b[0;32mif\u001b[0m \u001b[0mhandle\u001b[0m \u001b[0;32mis\u001b[0m \u001b[0;32mNone\u001b[0m\u001b[0;34m:\u001b[0m\u001b[0;34m\u001b[0m\u001b[0m\n\u001b[1;32m   1014\u001b[0m       return self._do_call(_run_fn, self._session, feed_dict, fetch_list,\n\u001b[0;32m-> 1015\u001b[0;31m                            target_list, options, run_metadata)\n\u001b[0m\u001b[1;32m   1016\u001b[0m     \u001b[0;32melse\u001b[0m\u001b[0;34m:\u001b[0m\u001b[0;34m\u001b[0m\u001b[0m\n\u001b[1;32m   1017\u001b[0m       return self._do_call(_prun_fn, self._session, handle, feed_dict,\n",
      "\u001b[0;32m/home/davi/Dropbox/Programming/Udacity-ML/image-classification/py3-tensorflow/lib/python3.5/site-packages/tensorflow/python/client/session.py\u001b[0m in \u001b[0;36m_do_call\u001b[0;34m(self, fn, *args)\u001b[0m\n\u001b[1;32m   1033\u001b[0m         \u001b[0;32mexcept\u001b[0m \u001b[0mKeyError\u001b[0m\u001b[0;34m:\u001b[0m\u001b[0;34m\u001b[0m\u001b[0m\n\u001b[1;32m   1034\u001b[0m           \u001b[0;32mpass\u001b[0m\u001b[0;34m\u001b[0m\u001b[0m\n\u001b[0;32m-> 1035\u001b[0;31m       \u001b[0;32mraise\u001b[0m \u001b[0mtype\u001b[0m\u001b[0;34m(\u001b[0m\u001b[0me\u001b[0m\u001b[0;34m)\u001b[0m\u001b[0;34m(\u001b[0m\u001b[0mnode_def\u001b[0m\u001b[0;34m,\u001b[0m \u001b[0mop\u001b[0m\u001b[0;34m,\u001b[0m \u001b[0mmessage\u001b[0m\u001b[0;34m)\u001b[0m\u001b[0;34m\u001b[0m\u001b[0m\n\u001b[0m\u001b[1;32m   1036\u001b[0m \u001b[0;34m\u001b[0m\u001b[0m\n\u001b[1;32m   1037\u001b[0m   \u001b[0;32mdef\u001b[0m \u001b[0m_extend_graph\u001b[0m\u001b[0;34m(\u001b[0m\u001b[0mself\u001b[0m\u001b[0;34m)\u001b[0m\u001b[0;34m:\u001b[0m\u001b[0;34m\u001b[0m\u001b[0m\n",
      "\u001b[0;31mInvalidArgumentError\u001b[0m: Cannot assign a device to node 'Variable_23': Could not satisfy explicit device specification '/device:GPU:0' because no devices matching that specification are registered in this process; available devices: /job:localhost/replica:0/task:0/cpu:0\nColocation Debug Info:\nColocation group had the following types and devices: \nAssign: CPU \nIdentity: CPU \nVariableV2: CPU \n\t [[Node: Variable_23 = VariableV2[container=\"\", dtype=DT_FLOAT, shape=[10], shared_name=\"\", _device=\"/device:GPU:0\"]()]]\n\nCaused by op 'Variable_23', defined at:\n  File \"/usr/lib/python3.5/runpy.py\", line 184, in _run_module_as_main\n    \"__main__\", mod_spec)\n  File \"/usr/lib/python3.5/runpy.py\", line 85, in _run_code\n    exec(code, run_globals)\n  File \"/home/davi/Dropbox/Programming/Udacity-ML/image-classification/py3-tensorflow/lib/python3.5/site-packages/ipykernel/__main__.py\", line 3, in <module>\n    app.launch_new_instance()\n  File \"/home/davi/Dropbox/Programming/Udacity-ML/image-classification/py3-tensorflow/lib/python3.5/site-packages/traitlets/config/application.py\", line 658, in launch_instance\n    app.start()\n  File \"/home/davi/Dropbox/Programming/Udacity-ML/image-classification/py3-tensorflow/lib/python3.5/site-packages/ipykernel/kernelapp.py\", line 474, in start\n    ioloop.IOLoop.instance().start()\n  File \"/home/davi/Dropbox/Programming/Udacity-ML/image-classification/py3-tensorflow/lib/python3.5/site-packages/zmq/eventloop/ioloop.py\", line 177, in start\n    super(ZMQIOLoop, self).start()\n  File \"/home/davi/Dropbox/Programming/Udacity-ML/image-classification/py3-tensorflow/lib/python3.5/site-packages/tornado/ioloop.py\", line 887, in start\n    handler_func(fd_obj, events)\n  File \"/home/davi/Dropbox/Programming/Udacity-ML/image-classification/py3-tensorflow/lib/python3.5/site-packages/tornado/stack_context.py\", line 275, in null_wrapper\n    return fn(*args, **kwargs)\n  File \"/home/davi/Dropbox/Programming/Udacity-ML/image-classification/py3-tensorflow/lib/python3.5/site-packages/zmq/eventloop/zmqstream.py\", line 440, in _handle_events\n    self._handle_recv()\n  File \"/home/davi/Dropbox/Programming/Udacity-ML/image-classification/py3-tensorflow/lib/python3.5/site-packages/zmq/eventloop/zmqstream.py\", line 472, in _handle_recv\n    self._run_callback(callback, msg)\n  File \"/home/davi/Dropbox/Programming/Udacity-ML/image-classification/py3-tensorflow/lib/python3.5/site-packages/zmq/eventloop/zmqstream.py\", line 414, in _run_callback\n    callback(*args, **kwargs)\n  File \"/home/davi/Dropbox/Programming/Udacity-ML/image-classification/py3-tensorflow/lib/python3.5/site-packages/tornado/stack_context.py\", line 275, in null_wrapper\n    return fn(*args, **kwargs)\n  File \"/home/davi/Dropbox/Programming/Udacity-ML/image-classification/py3-tensorflow/lib/python3.5/site-packages/ipykernel/kernelbase.py\", line 276, in dispatcher\n    return self.dispatch_shell(stream, msg)\n  File \"/home/davi/Dropbox/Programming/Udacity-ML/image-classification/py3-tensorflow/lib/python3.5/site-packages/ipykernel/kernelbase.py\", line 228, in dispatch_shell\n    handler(stream, idents, msg)\n  File \"/home/davi/Dropbox/Programming/Udacity-ML/image-classification/py3-tensorflow/lib/python3.5/site-packages/ipykernel/kernelbase.py\", line 390, in execute_request\n    user_expressions, allow_stdin)\n  File \"/home/davi/Dropbox/Programming/Udacity-ML/image-classification/py3-tensorflow/lib/python3.5/site-packages/ipykernel/ipkernel.py\", line 196, in do_execute\n    res = shell.run_cell(code, store_history=store_history, silent=silent)\n  File \"/home/davi/Dropbox/Programming/Udacity-ML/image-classification/py3-tensorflow/lib/python3.5/site-packages/ipykernel/zmqshell.py\", line 501, in run_cell\n    return super(ZMQInteractiveShell, self).run_cell(*args, **kwargs)\n  File \"/home/davi/Dropbox/Programming/Udacity-ML/image-classification/py3-tensorflow/lib/python3.5/site-packages/IPython/core/interactiveshell.py\", line 2717, in run_cell\n    interactivity=interactivity, compiler=compiler, result=result)\n  File \"/home/davi/Dropbox/Programming/Udacity-ML/image-classification/py3-tensorflow/lib/python3.5/site-packages/IPython/core/interactiveshell.py\", line 2827, in run_ast_nodes\n    if self.run_code(code, result):\n  File \"/home/davi/Dropbox/Programming/Udacity-ML/image-classification/py3-tensorflow/lib/python3.5/site-packages/IPython/core/interactiveshell.py\", line 2881, in run_code\n    exec(code_obj, self.user_global_ns, self.user_ns)\n  File \"<ipython-input-7-7b49a1f02249>\", line 71, in <module>\n    tests.test_conv_net(conv_net)\n  File \"/home/davi/Dropbox/Programming/Udacity-ML/image-classification/problem_unittests.py\", line 179, in test_conv_net\n    logits_out = conv_net(test_x, test_k)\n  File \"<ipython-input-7-7b49a1f02249>\", line 35, in conv_net\n    a = output(x, 10)\n  File \"<ipython-input-6-afa8be169c8f>\", line 10, in output\n    b = tf.Variable(tf.zeros(num_outputs))\n  File \"/home/davi/Dropbox/Programming/Udacity-ML/image-classification/py3-tensorflow/lib/python3.5/site-packages/tensorflow/python/ops/variables.py\", line 197, in __init__\n    expected_shape=expected_shape)\n  File \"/home/davi/Dropbox/Programming/Udacity-ML/image-classification/py3-tensorflow/lib/python3.5/site-packages/tensorflow/python/ops/variables.py\", line 293, in _init_from_args\n    name=name)\n  File \"/home/davi/Dropbox/Programming/Udacity-ML/image-classification/py3-tensorflow/lib/python3.5/site-packages/tensorflow/python/ops/state_ops.py\", line 128, in variable_op_v2\n    shared_name=shared_name)\n  File \"/home/davi/Dropbox/Programming/Udacity-ML/image-classification/py3-tensorflow/lib/python3.5/site-packages/tensorflow/python/ops/gen_state_ops.py\", line 708, in _variable_v2\n    name=name)\n  File \"/home/davi/Dropbox/Programming/Udacity-ML/image-classification/py3-tensorflow/lib/python3.5/site-packages/tensorflow/python/framework/op_def_library.py\", line 763, in apply_op\n    op_def=op_def)\n  File \"/home/davi/Dropbox/Programming/Udacity-ML/image-classification/py3-tensorflow/lib/python3.5/site-packages/tensorflow/python/framework/ops.py\", line 2327, in create_op\n    original_op=self._default_original_op, op_def=op_def)\n  File \"/home/davi/Dropbox/Programming/Udacity-ML/image-classification/py3-tensorflow/lib/python3.5/site-packages/tensorflow/python/framework/ops.py\", line 1226, in __init__\n    self._traceback = _extract_stack()\n\nInvalidArgumentError (see above for traceback): Cannot assign a device to node 'Variable_23': Could not satisfy explicit device specification '/device:GPU:0' because no devices matching that specification are registered in this process; available devices: /job:localhost/replica:0/task:0/cpu:0\nColocation Debug Info:\nColocation group had the following types and devices: \nAssign: CPU \nIdentity: CPU \nVariableV2: CPU \n\t [[Node: Variable_23 = VariableV2[container=\"\", dtype=DT_FLOAT, shape=[10], shared_name=\"\", _device=\"/device:GPU:0\"]()]]\n"
     ]
    }
   ],
   "source": [
    "\"\"\"\n",
    "DON'T MODIFY ANYTHING IN THIS CELL\n",
    "\"\"\"\n",
    "print('Checking the Training on a Single Batch...')\n",
    "with tf.Session(config=tf.ConfigProto(log_device_placement=True)) as sess:\n",
    "    # Initializing the variables\n",
    "    sess.run(tf.global_variables_initializer())\n",
    "    \n",
    "    # Training cycle\n",
    "    for epoch in range(epochs):\n",
    "        batch_i = 1\n",
    "        for batch_features, batch_labels in helper.load_preprocess_training_batch(batch_i, batch_size):\n",
    "            train_neural_network(sess, optimizer, keep_probability, batch_features, batch_labels)\n",
    "        print('Epoch {:>2}, CIFAR-10 Batch {}:  '.format(epoch + 1, batch_i), end='')\n",
    "        print_stats(sess, batch_features, batch_labels, cost, accuracy)"
   ]
  },
  {
   "cell_type": "markdown",
   "metadata": {
    "deletable": true,
    "editable": true
   },
   "source": [
    "### Fully Train the Model\n",
    "Now that you got a good accuracy with a single CIFAR-10 batch, try it with all five batches."
   ]
  },
  {
   "cell_type": "code",
   "execution_count": 17,
   "metadata": {
    "collapsed": false,
    "deletable": true,
    "editable": true
   },
   "outputs": [
    {
     "name": "stdout",
     "output_type": "stream",
     "text": [
      "Training...\n",
      "Epoch  1, CIFAR-10 Batch 1:  Loss:     2.3028 accuracy: 0.099800\n",
      "Epoch  1, CIFAR-10 Batch 2:  Loss:     2.3028 accuracy: 0.099800\n",
      "Epoch  1, CIFAR-10 Batch 3:  Loss:     2.2359 accuracy: 0.138600\n",
      "Epoch  1, CIFAR-10 Batch 4:  Loss:     2.0553 accuracy: 0.192400\n",
      "Epoch  1, CIFAR-10 Batch 5:  Loss:     2.0205 accuracy: 0.192200\n",
      "Epoch  2, CIFAR-10 Batch 1:  Loss:     2.1077 accuracy: 0.195000\n",
      "Epoch  2, CIFAR-10 Batch 2:  Loss:     1.9948 accuracy: 0.204600\n",
      "Epoch  2, CIFAR-10 Batch 3:  Loss:     1.9372 accuracy: 0.187400\n",
      "Epoch  2, CIFAR-10 Batch 4:  Loss:     1.9165 accuracy: 0.209800\n",
      "Epoch  2, CIFAR-10 Batch 5:  Loss:     1.9338 accuracy: 0.207200\n",
      "Epoch  3, CIFAR-10 Batch 1:  Loss:     2.0086 accuracy: 0.214200\n",
      "Epoch  3, CIFAR-10 Batch 2:  Loss:     1.9265 accuracy: 0.228400\n",
      "Epoch  3, CIFAR-10 Batch 3:  Loss:     1.8155 accuracy: 0.242400\n",
      "Epoch  3, CIFAR-10 Batch 4:  Loss:     1.8275 accuracy: 0.241000\n",
      "Epoch  3, CIFAR-10 Batch 5:  Loss:     1.8763 accuracy: 0.252200\n",
      "Epoch  4, CIFAR-10 Batch 1:  Loss:     1.9080 accuracy: 0.282200\n",
      "Epoch  4, CIFAR-10 Batch 2:  Loss:     1.8191 accuracy: 0.285000\n",
      "Epoch  4, CIFAR-10 Batch 3:  Loss:     1.6919 accuracy: 0.302400\n",
      "Epoch  4, CIFAR-10 Batch 4:  Loss:     1.7133 accuracy: 0.325000\n",
      "Epoch  4, CIFAR-10 Batch 5:  Loss:     1.7862 accuracy: 0.322000\n",
      "Epoch  5, CIFAR-10 Batch 1:  Loss:     1.8196 accuracy: 0.329200\n",
      "Epoch  5, CIFAR-10 Batch 2:  Loss:     1.7615 accuracy: 0.339600\n",
      "Epoch  5, CIFAR-10 Batch 3:  Loss:     1.5864 accuracy: 0.341400\n",
      "Epoch  5, CIFAR-10 Batch 4:  Loss:     1.6202 accuracy: 0.350800\n",
      "Epoch  5, CIFAR-10 Batch 5:  Loss:     1.7270 accuracy: 0.332600\n",
      "Epoch  6, CIFAR-10 Batch 1:  Loss:     1.7637 accuracy: 0.358600\n",
      "Epoch  6, CIFAR-10 Batch 2:  Loss:     1.7397 accuracy: 0.352000\n",
      "Epoch  6, CIFAR-10 Batch 3:  Loss:     1.5496 accuracy: 0.361400\n",
      "Epoch  6, CIFAR-10 Batch 4:  Loss:     1.5616 accuracy: 0.372800\n",
      "Epoch  6, CIFAR-10 Batch 5:  Loss:     1.6721 accuracy: 0.370600\n",
      "Epoch  7, CIFAR-10 Batch 1:  Loss:     1.7123 accuracy: 0.377000\n",
      "Epoch  7, CIFAR-10 Batch 2:  Loss:     1.6932 accuracy: 0.383200\n",
      "Epoch  7, CIFAR-10 Batch 3:  Loss:     1.4910 accuracy: 0.387600\n",
      "Epoch  7, CIFAR-10 Batch 4:  Loss:     1.5050 accuracy: 0.388200\n",
      "Epoch  7, CIFAR-10 Batch 5:  Loss:     1.6139 accuracy: 0.396000\n",
      "Epoch  8, CIFAR-10 Batch 1:  Loss:     1.6571 accuracy: 0.400000\n",
      "Epoch  8, CIFAR-10 Batch 2:  Loss:     1.6476 accuracy: 0.412200\n",
      "Epoch  8, CIFAR-10 Batch 3:  Loss:     1.4451 accuracy: 0.404800\n",
      "Epoch  8, CIFAR-10 Batch 4:  Loss:     1.4500 accuracy: 0.413800\n",
      "Epoch  8, CIFAR-10 Batch 5:  Loss:     1.5454 accuracy: 0.415800\n",
      "Epoch  9, CIFAR-10 Batch 1:  Loss:     1.5866 accuracy: 0.424000\n",
      "Epoch  9, CIFAR-10 Batch 2:  Loss:     1.5942 accuracy: 0.426400\n",
      "Epoch  9, CIFAR-10 Batch 3:  Loss:     1.3980 accuracy: 0.422600\n",
      "Epoch  9, CIFAR-10 Batch 4:  Loss:     1.4155 accuracy: 0.424000\n",
      "Epoch  9, CIFAR-10 Batch 5:  Loss:     1.4994 accuracy: 0.440600\n",
      "Epoch 10, CIFAR-10 Batch 1:  Loss:     1.5236 accuracy: 0.441600\n",
      "Epoch 10, CIFAR-10 Batch 2:  Loss:     1.5301 accuracy: 0.444800\n",
      "Epoch 10, CIFAR-10 Batch 3:  Loss:     1.3668 accuracy: 0.425600\n",
      "Epoch 10, CIFAR-10 Batch 4:  Loss:     1.3637 accuracy: 0.446000\n",
      "Epoch 10, CIFAR-10 Batch 5:  Loss:     1.4338 accuracy: 0.454400\n",
      "Epoch 11, CIFAR-10 Batch 1:  Loss:     1.4708 accuracy: 0.457200\n",
      "Epoch 11, CIFAR-10 Batch 2:  Loss:     1.4795 accuracy: 0.454400\n",
      "Epoch 11, CIFAR-10 Batch 3:  Loss:     1.2847 accuracy: 0.454800\n",
      "Epoch 11, CIFAR-10 Batch 4:  Loss:     1.3155 accuracy: 0.464600\n",
      "Epoch 11, CIFAR-10 Batch 5:  Loss:     1.3798 accuracy: 0.472000\n",
      "Epoch 12, CIFAR-10 Batch 1:  Loss:     1.4376 accuracy: 0.474200\n",
      "Epoch 12, CIFAR-10 Batch 2:  Loss:     1.4258 accuracy: 0.476200\n",
      "Epoch 12, CIFAR-10 Batch 3:  Loss:     1.2230 accuracy: 0.475200\n",
      "Epoch 12, CIFAR-10 Batch 4:  Loss:     1.2713 accuracy: 0.476200\n",
      "Epoch 12, CIFAR-10 Batch 5:  Loss:     1.3349 accuracy: 0.476800\n",
      "Epoch 13, CIFAR-10 Batch 1:  Loss:     1.3795 accuracy: 0.480200\n",
      "Epoch 13, CIFAR-10 Batch 2:  Loss:     1.3767 accuracy: 0.487400\n",
      "Epoch 13, CIFAR-10 Batch 3:  Loss:     1.1895 accuracy: 0.483000\n",
      "Epoch 13, CIFAR-10 Batch 4:  Loss:     1.2318 accuracy: 0.486600\n",
      "Epoch 13, CIFAR-10 Batch 5:  Loss:     1.3004 accuracy: 0.490800\n",
      "Epoch 14, CIFAR-10 Batch 1:  Loss:     1.3769 accuracy: 0.492800\n",
      "Epoch 14, CIFAR-10 Batch 2:  Loss:     1.3305 accuracy: 0.499800\n",
      "Epoch 14, CIFAR-10 Batch 3:  Loss:     1.1593 accuracy: 0.491600\n",
      "Epoch 14, CIFAR-10 Batch 4:  Loss:     1.2230 accuracy: 0.502600\n",
      "Epoch 14, CIFAR-10 Batch 5:  Loss:     1.2786 accuracy: 0.503200\n",
      "Epoch 15, CIFAR-10 Batch 1:  Loss:     1.3324 accuracy: 0.506000\n",
      "Epoch 15, CIFAR-10 Batch 2:  Loss:     1.3110 accuracy: 0.507600\n",
      "Epoch 15, CIFAR-10 Batch 3:  Loss:     1.1434 accuracy: 0.503000\n",
      "Epoch 15, CIFAR-10 Batch 4:  Loss:     1.1777 accuracy: 0.513800\n",
      "Epoch 15, CIFAR-10 Batch 5:  Loss:     1.2556 accuracy: 0.512200\n",
      "Epoch 16, CIFAR-10 Batch 1:  Loss:     1.2917 accuracy: 0.514800\n",
      "Epoch 16, CIFAR-10 Batch 2:  Loss:     1.2785 accuracy: 0.519400\n",
      "Epoch 16, CIFAR-10 Batch 3:  Loss:     1.1088 accuracy: 0.516200\n",
      "Epoch 16, CIFAR-10 Batch 4:  Loss:     1.1608 accuracy: 0.523400\n",
      "Epoch 16, CIFAR-10 Batch 5:  Loss:     1.2418 accuracy: 0.518800\n",
      "Epoch 17, CIFAR-10 Batch 1:  Loss:     1.2671 accuracy: 0.519200\n",
      "Epoch 17, CIFAR-10 Batch 2:  Loss:     1.2403 accuracy: 0.527600\n",
      "Epoch 17, CIFAR-10 Batch 3:  Loss:     1.1051 accuracy: 0.519600\n",
      "Epoch 17, CIFAR-10 Batch 4:  Loss:     1.1334 accuracy: 0.534000\n",
      "Epoch 17, CIFAR-10 Batch 5:  Loss:     1.2161 accuracy: 0.529800\n",
      "Epoch 18, CIFAR-10 Batch 1:  Loss:     1.2406 accuracy: 0.522000\n",
      "Epoch 18, CIFAR-10 Batch 2:  Loss:     1.2087 accuracy: 0.540600\n",
      "Epoch 18, CIFAR-10 Batch 3:  Loss:     1.0694 accuracy: 0.537200\n",
      "Epoch 18, CIFAR-10 Batch 4:  Loss:     1.1095 accuracy: 0.537200\n",
      "Epoch 18, CIFAR-10 Batch 5:  Loss:     1.2084 accuracy: 0.534800\n",
      "Epoch 19, CIFAR-10 Batch 1:  Loss:     1.2105 accuracy: 0.530800\n",
      "Epoch 19, CIFAR-10 Batch 2:  Loss:     1.2014 accuracy: 0.539800\n",
      "Epoch 19, CIFAR-10 Batch 3:  Loss:     1.0391 accuracy: 0.546800\n",
      "Epoch 19, CIFAR-10 Batch 4:  Loss:     1.0648 accuracy: 0.550800\n",
      "Epoch 19, CIFAR-10 Batch 5:  Loss:     1.1979 accuracy: 0.537600\n",
      "Epoch 20, CIFAR-10 Batch 1:  Loss:     1.2238 accuracy: 0.537600\n",
      "Epoch 20, CIFAR-10 Batch 2:  Loss:     1.1659 accuracy: 0.545800\n",
      "Epoch 20, CIFAR-10 Batch 3:  Loss:     1.0260 accuracy: 0.548600\n",
      "Epoch 20, CIFAR-10 Batch 4:  Loss:     1.0600 accuracy: 0.551600\n",
      "Epoch 20, CIFAR-10 Batch 5:  Loss:     1.1704 accuracy: 0.548400\n",
      "Epoch 21, CIFAR-10 Batch 1:  Loss:     1.1808 accuracy: 0.553000\n",
      "Epoch 21, CIFAR-10 Batch 2:  Loss:     1.1754 accuracy: 0.547000\n",
      "Epoch 21, CIFAR-10 Batch 3:  Loss:     1.0066 accuracy: 0.560000\n",
      "Epoch 21, CIFAR-10 Batch 4:  Loss:     1.0130 accuracy: 0.557800\n",
      "Epoch 21, CIFAR-10 Batch 5:  Loss:     1.1342 accuracy: 0.561000\n",
      "Epoch 22, CIFAR-10 Batch 1:  Loss:     1.1566 accuracy: 0.558800\n",
      "Epoch 22, CIFAR-10 Batch 2:  Loss:     1.1402 accuracy: 0.553800\n",
      "Epoch 22, CIFAR-10 Batch 3:  Loss:     0.9760 accuracy: 0.568800\n",
      "Epoch 22, CIFAR-10 Batch 4:  Loss:     0.9942 accuracy: 0.569800\n",
      "Epoch 22, CIFAR-10 Batch 5:  Loss:     1.1008 accuracy: 0.565400\n",
      "Epoch 23, CIFAR-10 Batch 1:  Loss:     1.1345 accuracy: 0.567600\n",
      "Epoch 23, CIFAR-10 Batch 2:  Loss:     1.1020 accuracy: 0.565200\n",
      "Epoch 23, CIFAR-10 Batch 3:  Loss:     0.9557 accuracy: 0.570200\n",
      "Epoch 23, CIFAR-10 Batch 4:  Loss:     0.9624 accuracy: 0.572200\n",
      "Epoch 23, CIFAR-10 Batch 5:  Loss:     1.0670 accuracy: 0.577400\n",
      "Epoch 24, CIFAR-10 Batch 1:  Loss:     1.0891 accuracy: 0.576000\n",
      "Epoch 24, CIFAR-10 Batch 2:  Loss:     1.0891 accuracy: 0.575800\n",
      "Epoch 24, CIFAR-10 Batch 3:  Loss:     0.9387 accuracy: 0.577200\n",
      "Epoch 24, CIFAR-10 Batch 4:  Loss:     0.9685 accuracy: 0.580800\n",
      "Epoch 24, CIFAR-10 Batch 5:  Loss:     1.0567 accuracy: 0.576000\n",
      "Epoch 25, CIFAR-10 Batch 1:  Loss:     1.0680 accuracy: 0.578600\n",
      "Epoch 25, CIFAR-10 Batch 2:  Loss:     1.0689 accuracy: 0.581000\n",
      "Epoch 25, CIFAR-10 Batch 3:  Loss:     0.9169 accuracy: 0.579000\n",
      "Epoch 25, CIFAR-10 Batch 4:  Loss:     0.9178 accuracy: 0.593800\n",
      "Epoch 25, CIFAR-10 Batch 5:  Loss:     1.0345 accuracy: 0.578200\n",
      "Epoch 26, CIFAR-10 Batch 1:  Loss:     1.0549 accuracy: 0.578800\n",
      "Epoch 26, CIFAR-10 Batch 2:  Loss:     1.0411 accuracy: 0.586600\n",
      "Epoch 26, CIFAR-10 Batch 3:  Loss:     0.8909 accuracy: 0.599200\n",
      "Epoch 26, CIFAR-10 Batch 4:  Loss:     0.9113 accuracy: 0.591400\n",
      "Epoch 26, CIFAR-10 Batch 5:  Loss:     0.9936 accuracy: 0.592600\n",
      "Epoch 27, CIFAR-10 Batch 1:  Loss:     1.0306 accuracy: 0.592400\n",
      "Epoch 27, CIFAR-10 Batch 2:  Loss:     1.0150 accuracy: 0.593600\n",
      "Epoch 27, CIFAR-10 Batch 3:  Loss:     0.8698 accuracy: 0.595800\n",
      "Epoch 27, CIFAR-10 Batch 4:  Loss:     0.8842 accuracy: 0.595800\n",
      "Epoch 27, CIFAR-10 Batch 5:  Loss:     0.9838 accuracy: 0.601600\n",
      "Epoch 28, CIFAR-10 Batch 1:  Loss:     1.0004 accuracy: 0.596600\n",
      "Epoch 28, CIFAR-10 Batch 2:  Loss:     1.0391 accuracy: 0.594000\n",
      "Epoch 28, CIFAR-10 Batch 3:  Loss:     0.8727 accuracy: 0.590000\n",
      "Epoch 28, CIFAR-10 Batch 4:  Loss:     0.8703 accuracy: 0.601600\n",
      "Epoch 28, CIFAR-10 Batch 5:  Loss:     0.9581 accuracy: 0.608400\n",
      "Epoch 29, CIFAR-10 Batch 1:  Loss:     0.9835 accuracy: 0.603600\n",
      "Epoch 29, CIFAR-10 Batch 2:  Loss:     0.9908 accuracy: 0.600600\n",
      "Epoch 29, CIFAR-10 Batch 3:  Loss:     0.8383 accuracy: 0.602000\n",
      "Epoch 29, CIFAR-10 Batch 4:  Loss:     0.8444 accuracy: 0.607000\n",
      "Epoch 29, CIFAR-10 Batch 5:  Loss:     0.9364 accuracy: 0.610400\n",
      "Epoch 30, CIFAR-10 Batch 1:  Loss:     0.9782 accuracy: 0.609000\n",
      "Epoch 30, CIFAR-10 Batch 2:  Loss:     0.9670 accuracy: 0.606400\n",
      "Epoch 30, CIFAR-10 Batch 3:  Loss:     0.8417 accuracy: 0.600400\n",
      "Epoch 30, CIFAR-10 Batch 4:  Loss:     0.8267 accuracy: 0.616400\n",
      "Epoch 30, CIFAR-10 Batch 5:  Loss:     0.9189 accuracy: 0.612200\n",
      "Epoch 31, CIFAR-10 Batch 1:  Loss:     0.9541 accuracy: 0.612600\n",
      "Epoch 31, CIFAR-10 Batch 2:  Loss:     0.9318 accuracy: 0.610000\n",
      "Epoch 31, CIFAR-10 Batch 3:  Loss:     0.8196 accuracy: 0.608800\n",
      "Epoch 31, CIFAR-10 Batch 4:  Loss:     0.8130 accuracy: 0.618000\n",
      "Epoch 31, CIFAR-10 Batch 5:  Loss:     0.9075 accuracy: 0.612400\n",
      "Epoch 32, CIFAR-10 Batch 1:  Loss:     0.9499 accuracy: 0.618200\n",
      "Epoch 32, CIFAR-10 Batch 2:  Loss:     0.9436 accuracy: 0.613400\n",
      "Epoch 32, CIFAR-10 Batch 3:  Loss:     0.8186 accuracy: 0.605600\n",
      "Epoch 32, CIFAR-10 Batch 4:  Loss:     0.7952 accuracy: 0.619600\n",
      "Epoch 32, CIFAR-10 Batch 5:  Loss:     0.8822 accuracy: 0.620000\n",
      "Epoch 33, CIFAR-10 Batch 1:  Loss:     0.9523 accuracy: 0.597600\n",
      "Epoch 33, CIFAR-10 Batch 2:  Loss:     0.9356 accuracy: 0.619600\n",
      "Epoch 33, CIFAR-10 Batch 3:  Loss:     0.7984 accuracy: 0.606400\n",
      "Epoch 33, CIFAR-10 Batch 4:  Loss:     0.8090 accuracy: 0.618600\n",
      "Epoch 33, CIFAR-10 Batch 5:  Loss:     0.8728 accuracy: 0.625400\n",
      "Epoch 34, CIFAR-10 Batch 1:  Loss:     0.9283 accuracy: 0.603200\n",
      "Epoch 34, CIFAR-10 Batch 2:  Loss:     0.9627 accuracy: 0.605600\n",
      "Epoch 34, CIFAR-10 Batch 3:  Loss:     0.7555 accuracy: 0.616800\n",
      "Epoch 34, CIFAR-10 Batch 4:  Loss:     0.7952 accuracy: 0.619000\n",
      "Epoch 34, CIFAR-10 Batch 5:  Loss:     0.8780 accuracy: 0.626200\n",
      "Epoch 35, CIFAR-10 Batch 1:  Loss:     0.9188 accuracy: 0.606200\n",
      "Epoch 35, CIFAR-10 Batch 2:  Loss:     0.9436 accuracy: 0.600000\n",
      "Epoch 35, CIFAR-10 Batch 3:  Loss:     0.7267 accuracy: 0.624600\n",
      "Epoch 35, CIFAR-10 Batch 4:  Loss:     0.7422 accuracy: 0.630200\n",
      "Epoch 35, CIFAR-10 Batch 5:  Loss:     0.8565 accuracy: 0.633400\n",
      "Epoch 36, CIFAR-10 Batch 1:  Loss:     0.9304 accuracy: 0.604800\n",
      "Epoch 36, CIFAR-10 Batch 2:  Loss:     0.9218 accuracy: 0.602800\n",
      "Epoch 36, CIFAR-10 Batch 3:  Loss:     0.7037 accuracy: 0.630800\n",
      "Epoch 36, CIFAR-10 Batch 4:  Loss:     0.7306 accuracy: 0.640200\n",
      "Epoch 36, CIFAR-10 Batch 5:  Loss:     0.8342 accuracy: 0.635800\n",
      "Epoch 37, CIFAR-10 Batch 1:  Loss:     0.9096 accuracy: 0.610800\n",
      "Epoch 37, CIFAR-10 Batch 2:  Loss:     0.9372 accuracy: 0.588200\n",
      "Epoch 37, CIFAR-10 Batch 3:  Loss:     0.6968 accuracy: 0.634800\n",
      "Epoch 37, CIFAR-10 Batch 4:  Loss:     0.7112 accuracy: 0.638000\n",
      "Epoch 37, CIFAR-10 Batch 5:  Loss:     0.8284 accuracy: 0.634800\n",
      "Epoch 38, CIFAR-10 Batch 1:  Loss:     0.8656 accuracy: 0.628200\n",
      "Epoch 38, CIFAR-10 Batch 2:  Loss:     0.8802 accuracy: 0.612400\n",
      "Epoch 38, CIFAR-10 Batch 3:  Loss:     0.6766 accuracy: 0.638800\n",
      "Epoch 38, CIFAR-10 Batch 4:  Loss:     0.6960 accuracy: 0.649200\n",
      "Epoch 38, CIFAR-10 Batch 5:  Loss:     0.8253 accuracy: 0.631600\n",
      "Epoch 39, CIFAR-10 Batch 1:  Loss:     0.8463 accuracy: 0.627200\n",
      "Epoch 39, CIFAR-10 Batch 2:  Loss:     0.8716 accuracy: 0.610800\n",
      "Epoch 39, CIFAR-10 Batch 3:  Loss:     0.6693 accuracy: 0.638000\n",
      "Epoch 39, CIFAR-10 Batch 4:  Loss:     0.6832 accuracy: 0.647000\n",
      "Epoch 39, CIFAR-10 Batch 5:  Loss:     0.8023 accuracy: 0.647000\n",
      "Epoch 40, CIFAR-10 Batch 1:  Loss:     0.8440 accuracy: 0.624600\n",
      "Epoch 40, CIFAR-10 Batch 2:  Loss:     0.8857 accuracy: 0.602200\n",
      "Epoch 40, CIFAR-10 Batch 3:  Loss:     0.6580 accuracy: 0.645400\n",
      "Epoch 40, CIFAR-10 Batch 4:  Loss:     0.6717 accuracy: 0.648600\n",
      "Epoch 40, CIFAR-10 Batch 5:  Loss:     0.7934 accuracy: 0.645800\n",
      "Epoch 41, CIFAR-10 Batch 1:  Loss:     0.8081 accuracy: 0.635800\n",
      "Epoch 41, CIFAR-10 Batch 2:  Loss:     0.8319 accuracy: 0.627600\n",
      "Epoch 41, CIFAR-10 Batch 3:  Loss:     0.6362 accuracy: 0.644600\n",
      "Epoch 41, CIFAR-10 Batch 4:  Loss:     0.6556 accuracy: 0.648000\n",
      "Epoch 41, CIFAR-10 Batch 5:  Loss:     0.7847 accuracy: 0.649000\n",
      "Epoch 42, CIFAR-10 Batch 1:  Loss:     0.7956 accuracy: 0.636000\n",
      "Epoch 42, CIFAR-10 Batch 2:  Loss:     0.8100 accuracy: 0.628000\n",
      "Epoch 42, CIFAR-10 Batch 3:  Loss:     0.6192 accuracy: 0.644600\n",
      "Epoch 42, CIFAR-10 Batch 4:  Loss:     0.6429 accuracy: 0.655200\n",
      "Epoch 42, CIFAR-10 Batch 5:  Loss:     0.7591 accuracy: 0.656600\n",
      "Epoch 43, CIFAR-10 Batch 1:  Loss:     0.7810 accuracy: 0.641800\n",
      "Epoch 43, CIFAR-10 Batch 2:  Loss:     0.8153 accuracy: 0.630400\n",
      "Epoch 43, CIFAR-10 Batch 3:  Loss:     0.6187 accuracy: 0.645200\n",
      "Epoch 43, CIFAR-10 Batch 4:  Loss:     0.6258 accuracy: 0.652600\n",
      "Epoch 43, CIFAR-10 Batch 5:  Loss:     0.7423 accuracy: 0.657200\n",
      "Epoch 44, CIFAR-10 Batch 1:  Loss:     0.7922 accuracy: 0.632400\n",
      "Epoch 44, CIFAR-10 Batch 2:  Loss:     0.7786 accuracy: 0.630200\n",
      "Epoch 44, CIFAR-10 Batch 3:  Loss:     0.5919 accuracy: 0.651000\n",
      "Epoch 44, CIFAR-10 Batch 4:  Loss:     0.6272 accuracy: 0.655200\n",
      "Epoch 44, CIFAR-10 Batch 5:  Loss:     0.7355 accuracy: 0.653600\n",
      "Epoch 45, CIFAR-10 Batch 1:  Loss:     0.7613 accuracy: 0.645000\n",
      "Epoch 45, CIFAR-10 Batch 2:  Loss:     0.7824 accuracy: 0.634000\n",
      "Epoch 45, CIFAR-10 Batch 3:  Loss:     0.6068 accuracy: 0.649600\n",
      "Epoch 45, CIFAR-10 Batch 4:  Loss:     0.5958 accuracy: 0.657000\n",
      "Epoch 45, CIFAR-10 Batch 5:  Loss:     0.7159 accuracy: 0.659200\n",
      "Epoch 46, CIFAR-10 Batch 1:  Loss:     0.7374 accuracy: 0.647800\n",
      "Epoch 46, CIFAR-10 Batch 2:  Loss:     0.7699 accuracy: 0.644000\n",
      "Epoch 46, CIFAR-10 Batch 3:  Loss:     0.5868 accuracy: 0.658000\n",
      "Epoch 46, CIFAR-10 Batch 4:  Loss:     0.5968 accuracy: 0.659200\n",
      "Epoch 46, CIFAR-10 Batch 5:  Loss:     0.7138 accuracy: 0.660400\n",
      "Epoch 47, CIFAR-10 Batch 1:  Loss:     0.7392 accuracy: 0.652600\n",
      "Epoch 47, CIFAR-10 Batch 2:  Loss:     0.7546 accuracy: 0.639600\n",
      "Epoch 47, CIFAR-10 Batch 3:  Loss:     0.5869 accuracy: 0.649400\n",
      "Epoch 47, CIFAR-10 Batch 4:  Loss:     0.5968 accuracy: 0.662600\n",
      "Epoch 47, CIFAR-10 Batch 5:  Loss:     0.7050 accuracy: 0.666000\n",
      "Epoch 48, CIFAR-10 Batch 1:  Loss:     0.7125 accuracy: 0.658800\n",
      "Epoch 48, CIFAR-10 Batch 2:  Loss:     0.7332 accuracy: 0.643200\n",
      "Epoch 48, CIFAR-10 Batch 3:  Loss:     0.5701 accuracy: 0.657200\n",
      "Epoch 48, CIFAR-10 Batch 4:  Loss:     0.5808 accuracy: 0.662200\n",
      "Epoch 48, CIFAR-10 Batch 5:  Loss:     0.6985 accuracy: 0.661200\n",
      "Epoch 49, CIFAR-10 Batch 1:  Loss:     0.7036 accuracy: 0.660000\n",
      "Epoch 49, CIFAR-10 Batch 2:  Loss:     0.7271 accuracy: 0.652000\n",
      "Epoch 49, CIFAR-10 Batch 3:  Loss:     0.5673 accuracy: 0.653200\n",
      "Epoch 49, CIFAR-10 Batch 4:  Loss:     0.5831 accuracy: 0.666000\n",
      "Epoch 49, CIFAR-10 Batch 5:  Loss:     0.6800 accuracy: 0.667000\n",
      "Epoch 50, CIFAR-10 Batch 1:  Loss:     0.7158 accuracy: 0.657200\n",
      "Epoch 50, CIFAR-10 Batch 2:  Loss:     0.7035 accuracy: 0.659400\n",
      "Epoch 50, CIFAR-10 Batch 3:  Loss:     0.5483 accuracy: 0.661600\n",
      "Epoch 50, CIFAR-10 Batch 4:  Loss:     0.5629 accuracy: 0.668400\n",
      "Epoch 50, CIFAR-10 Batch 5:  Loss:     0.6718 accuracy: 0.658000\n",
      "Epoch 51, CIFAR-10 Batch 1:  Loss:     0.6898 accuracy: 0.662800\n",
      "Epoch 51, CIFAR-10 Batch 2:  Loss:     0.7181 accuracy: 0.642000\n",
      "Epoch 51, CIFAR-10 Batch 3:  Loss:     0.5493 accuracy: 0.657600\n",
      "Epoch 51, CIFAR-10 Batch 4:  Loss:     0.5744 accuracy: 0.665800\n",
      "Epoch 51, CIFAR-10 Batch 5:  Loss:     0.6601 accuracy: 0.666600\n",
      "Epoch 52, CIFAR-10 Batch 1:  Loss:     0.6801 accuracy: 0.663000\n",
      "Epoch 52, CIFAR-10 Batch 2:  Loss:     0.7036 accuracy: 0.645000\n",
      "Epoch 52, CIFAR-10 Batch 3:  Loss:     0.5407 accuracy: 0.663600\n",
      "Epoch 52, CIFAR-10 Batch 4:  Loss:     0.5559 accuracy: 0.667800\n",
      "Epoch 52, CIFAR-10 Batch 5:  Loss:     0.6526 accuracy: 0.669400\n",
      "Epoch 53, CIFAR-10 Batch 1:  Loss:     0.6724 accuracy: 0.664600\n",
      "Epoch 53, CIFAR-10 Batch 2:  Loss:     0.7283 accuracy: 0.636600\n",
      "Epoch 53, CIFAR-10 Batch 3:  Loss:     0.5263 accuracy: 0.662800\n",
      "Epoch 53, CIFAR-10 Batch 4:  Loss:     0.5275 accuracy: 0.673800\n",
      "Epoch 53, CIFAR-10 Batch 5:  Loss:     0.6686 accuracy: 0.663200\n",
      "Epoch 54, CIFAR-10 Batch 1:  Loss:     0.6649 accuracy: 0.669000\n",
      "Epoch 54, CIFAR-10 Batch 2:  Loss:     0.7117 accuracy: 0.641800\n",
      "Epoch 54, CIFAR-10 Batch 3:  Loss:     0.5271 accuracy: 0.659000\n",
      "Epoch 54, CIFAR-10 Batch 4:  Loss:     0.5213 accuracy: 0.672600\n",
      "Epoch 54, CIFAR-10 Batch 5:  Loss:     0.6458 accuracy: 0.663400\n",
      "Epoch 55, CIFAR-10 Batch 1:  Loss:     0.6587 accuracy: 0.673800\n",
      "Epoch 55, CIFAR-10 Batch 2:  Loss:     0.6988 accuracy: 0.659400\n",
      "Epoch 55, CIFAR-10 Batch 3:  Loss:     0.5014 accuracy: 0.668800\n",
      "Epoch 55, CIFAR-10 Batch 4:  Loss:     0.5327 accuracy: 0.669400\n",
      "Epoch 55, CIFAR-10 Batch 5:  Loss:     0.6698 accuracy: 0.663600\n",
      "Epoch 56, CIFAR-10 Batch 1:  Loss:     0.6633 accuracy: 0.666400\n",
      "Epoch 56, CIFAR-10 Batch 2:  Loss:     0.6653 accuracy: 0.661600\n",
      "Epoch 56, CIFAR-10 Batch 3:  Loss:     0.5181 accuracy: 0.665200\n",
      "Epoch 56, CIFAR-10 Batch 4:  Loss:     0.5355 accuracy: 0.658400\n",
      "Epoch 56, CIFAR-10 Batch 5:  Loss:     0.6369 accuracy: 0.660200\n",
      "Epoch 57, CIFAR-10 Batch 1:  Loss:     0.6612 accuracy: 0.661200\n",
      "Epoch 57, CIFAR-10 Batch 2:  Loss:     0.6587 accuracy: 0.663200\n",
      "Epoch 57, CIFAR-10 Batch 3:  Loss:     0.5077 accuracy: 0.668800\n",
      "Epoch 57, CIFAR-10 Batch 4:  Loss:     0.5392 accuracy: 0.658600\n",
      "Epoch 57, CIFAR-10 Batch 5:  Loss:     0.6001 accuracy: 0.669800\n",
      "Epoch 58, CIFAR-10 Batch 1:  Loss:     0.6397 accuracy: 0.664600\n",
      "Epoch 58, CIFAR-10 Batch 2:  Loss:     0.6496 accuracy: 0.664800\n",
      "Epoch 58, CIFAR-10 Batch 3:  Loss:     0.4978 accuracy: 0.669000\n",
      "Epoch 58, CIFAR-10 Batch 4:  Loss:     0.5301 accuracy: 0.656400\n",
      "Epoch 58, CIFAR-10 Batch 5:  Loss:     0.6098 accuracy: 0.669800\n",
      "Epoch 59, CIFAR-10 Batch 1:  Loss:     0.6120 accuracy: 0.670600\n",
      "Epoch 59, CIFAR-10 Batch 2:  Loss:     0.6523 accuracy: 0.667400\n",
      "Epoch 59, CIFAR-10 Batch 3:  Loss:     0.4827 accuracy: 0.674600\n",
      "Epoch 59, CIFAR-10 Batch 4:  Loss:     0.5183 accuracy: 0.663000\n",
      "Epoch 59, CIFAR-10 Batch 5:  Loss:     0.5852 accuracy: 0.670000\n",
      "Epoch 60, CIFAR-10 Batch 1:  Loss:     0.6136 accuracy: 0.674000\n",
      "Epoch 60, CIFAR-10 Batch 2:  Loss:     0.6358 accuracy: 0.666600\n",
      "Epoch 60, CIFAR-10 Batch 3:  Loss:     0.4753 accuracy: 0.676400\n",
      "Epoch 60, CIFAR-10 Batch 4:  Loss:     0.4895 accuracy: 0.668400\n",
      "Epoch 60, CIFAR-10 Batch 5:  Loss:     0.5770 accuracy: 0.671400\n",
      "Epoch 61, CIFAR-10 Batch 1:  Loss:     0.6052 accuracy: 0.671000\n",
      "Epoch 61, CIFAR-10 Batch 2:  Loss:     0.6360 accuracy: 0.668800\n",
      "Epoch 61, CIFAR-10 Batch 3:  Loss:     0.4686 accuracy: 0.679000\n",
      "Epoch 61, CIFAR-10 Batch 4:  Loss:     0.4800 accuracy: 0.665000\n",
      "Epoch 61, CIFAR-10 Batch 5:  Loss:     0.5771 accuracy: 0.677200\n",
      "Epoch 62, CIFAR-10 Batch 1:  Loss:     0.5994 accuracy: 0.669400\n",
      "Epoch 62, CIFAR-10 Batch 2:  Loss:     0.6396 accuracy: 0.669000\n",
      "Epoch 62, CIFAR-10 Batch 3:  Loss:     0.4766 accuracy: 0.677000\n",
      "Epoch 62, CIFAR-10 Batch 4:  Loss:     0.4865 accuracy: 0.669000\n",
      "Epoch 62, CIFAR-10 Batch 5:  Loss:     0.5518 accuracy: 0.677200\n",
      "Epoch 63, CIFAR-10 Batch 1:  Loss:     0.5818 accuracy: 0.676800\n",
      "Epoch 63, CIFAR-10 Batch 2:  Loss:     0.6040 accuracy: 0.674600\n",
      "Epoch 63, CIFAR-10 Batch 3:  Loss:     0.4565 accuracy: 0.680000\n",
      "Epoch 63, CIFAR-10 Batch 4:  Loss:     0.4577 accuracy: 0.674400\n",
      "Epoch 63, CIFAR-10 Batch 5:  Loss:     0.5666 accuracy: 0.683800\n",
      "Epoch 64, CIFAR-10 Batch 1:  Loss:     0.5840 accuracy: 0.667600\n",
      "Epoch 64, CIFAR-10 Batch 2:  Loss:     0.6197 accuracy: 0.672800\n",
      "Epoch 64, CIFAR-10 Batch 3:  Loss:     0.4627 accuracy: 0.677000\n",
      "Epoch 64, CIFAR-10 Batch 4:  Loss:     0.4680 accuracy: 0.675800\n",
      "Epoch 64, CIFAR-10 Batch 5:  Loss:     0.5529 accuracy: 0.672600\n",
      "Epoch 65, CIFAR-10 Batch 1:  Loss:     0.5474 accuracy: 0.679200\n",
      "Epoch 65, CIFAR-10 Batch 2:  Loss:     0.6217 accuracy: 0.669600\n",
      "Epoch 65, CIFAR-10 Batch 3:  Loss:     0.4718 accuracy: 0.674000\n",
      "Epoch 65, CIFAR-10 Batch 4:  Loss:     0.4537 accuracy: 0.676000\n",
      "Epoch 65, CIFAR-10 Batch 5:  Loss:     0.5432 accuracy: 0.675400\n",
      "Epoch 66, CIFAR-10 Batch 1:  Loss:     0.5454 accuracy: 0.676600\n",
      "Epoch 66, CIFAR-10 Batch 2:  Loss:     0.6124 accuracy: 0.670400\n",
      "Epoch 66, CIFAR-10 Batch 3:  Loss:     0.4648 accuracy: 0.675200\n",
      "Epoch 66, CIFAR-10 Batch 4:  Loss:     0.4599 accuracy: 0.666400\n",
      "Epoch 66, CIFAR-10 Batch 5:  Loss:     0.5281 accuracy: 0.686000\n",
      "Epoch 67, CIFAR-10 Batch 1:  Loss:     0.5346 accuracy: 0.679000\n",
      "Epoch 67, CIFAR-10 Batch 2:  Loss:     0.5869 accuracy: 0.675200\n",
      "Epoch 67, CIFAR-10 Batch 3:  Loss:     0.4513 accuracy: 0.678800\n",
      "Epoch 67, CIFAR-10 Batch 4:  Loss:     0.4281 accuracy: 0.681400\n",
      "Epoch 67, CIFAR-10 Batch 5:  Loss:     0.5190 accuracy: 0.683200\n",
      "Epoch 68, CIFAR-10 Batch 1:  Loss:     0.5402 accuracy: 0.673600\n",
      "Epoch 68, CIFAR-10 Batch 2:  Loss:     0.5756 accuracy: 0.675600\n",
      "Epoch 68, CIFAR-10 Batch 3:  Loss:     0.4386 accuracy: 0.680600\n",
      "Epoch 68, CIFAR-10 Batch 4:  Loss:     0.4342 accuracy: 0.674600\n",
      "Epoch 68, CIFAR-10 Batch 5:  Loss:     0.5091 accuracy: 0.682800\n",
      "Epoch 69, CIFAR-10 Batch 1:  Loss:     0.5260 accuracy: 0.679400\n",
      "Epoch 69, CIFAR-10 Batch 2:  Loss:     0.5657 accuracy: 0.675600\n",
      "Epoch 69, CIFAR-10 Batch 3:  Loss:     0.4359 accuracy: 0.682600\n",
      "Epoch 69, CIFAR-10 Batch 4:  Loss:     0.4416 accuracy: 0.670400\n",
      "Epoch 69, CIFAR-10 Batch 5:  Loss:     0.4996 accuracy: 0.674600\n",
      "Epoch 70, CIFAR-10 Batch 1:  Loss:     0.5430 accuracy: 0.675800\n",
      "Epoch 70, CIFAR-10 Batch 2:  Loss:     0.5659 accuracy: 0.677800\n",
      "Epoch 70, CIFAR-10 Batch 3:  Loss:     0.4248 accuracy: 0.687000\n",
      "Epoch 70, CIFAR-10 Batch 4:  Loss:     0.4219 accuracy: 0.675200\n",
      "Epoch 70, CIFAR-10 Batch 5:  Loss:     0.4909 accuracy: 0.677400\n",
      "Epoch 71, CIFAR-10 Batch 1:  Loss:     0.5328 accuracy: 0.678800\n",
      "Epoch 71, CIFAR-10 Batch 2:  Loss:     0.5627 accuracy: 0.672600\n",
      "Epoch 71, CIFAR-10 Batch 3:  Loss:     0.4455 accuracy: 0.675800\n",
      "Epoch 71, CIFAR-10 Batch 4:  Loss:     0.4124 accuracy: 0.676000\n",
      "Epoch 71, CIFAR-10 Batch 5:  Loss:     0.4841 accuracy: 0.677400\n",
      "Epoch 72, CIFAR-10 Batch 1:  Loss:     0.5230 accuracy: 0.671800\n",
      "Epoch 72, CIFAR-10 Batch 2:  Loss:     0.5775 accuracy: 0.673400\n",
      "Epoch 72, CIFAR-10 Batch 3:  Loss:     0.4309 accuracy: 0.680000\n",
      "Epoch 72, CIFAR-10 Batch 4:  Loss:     0.4015 accuracy: 0.681800\n",
      "Epoch 72, CIFAR-10 Batch 5:  Loss:     0.4690 accuracy: 0.681200\n",
      "Epoch 73, CIFAR-10 Batch 1:  Loss:     0.5211 accuracy: 0.681200\n",
      "Epoch 73, CIFAR-10 Batch 2:  Loss:     0.5481 accuracy: 0.676200\n",
      "Epoch 73, CIFAR-10 Batch 3:  Loss:     0.4232 accuracy: 0.679800\n",
      "Epoch 73, CIFAR-10 Batch 4:  Loss:     0.4112 accuracy: 0.680400\n",
      "Epoch 73, CIFAR-10 Batch 5:  Loss:     0.4834 accuracy: 0.666800\n",
      "Epoch 74, CIFAR-10 Batch 1:  Loss:     0.5170 accuracy: 0.677800\n",
      "Epoch 74, CIFAR-10 Batch 2:  Loss:     0.5392 accuracy: 0.670200\n",
      "Epoch 74, CIFAR-10 Batch 3:  Loss:     0.4375 accuracy: 0.678000\n",
      "Epoch 74, CIFAR-10 Batch 4:  Loss:     0.4072 accuracy: 0.677800\n",
      "Epoch 74, CIFAR-10 Batch 5:  Loss:     0.4597 accuracy: 0.682000\n",
      "Epoch 75, CIFAR-10 Batch 1:  Loss:     0.5101 accuracy: 0.674800\n",
      "Epoch 75, CIFAR-10 Batch 2:  Loss:     0.5154 accuracy: 0.676200\n",
      "Epoch 75, CIFAR-10 Batch 3:  Loss:     0.4678 accuracy: 0.670200\n",
      "Epoch 75, CIFAR-10 Batch 4:  Loss:     0.4099 accuracy: 0.675400\n",
      "Epoch 75, CIFAR-10 Batch 5:  Loss:     0.4834 accuracy: 0.672000\n",
      "Epoch 76, CIFAR-10 Batch 1:  Loss:     0.5372 accuracy: 0.662600\n",
      "Epoch 76, CIFAR-10 Batch 2:  Loss:     0.5626 accuracy: 0.666400\n",
      "Epoch 76, CIFAR-10 Batch 3:  Loss:     0.4608 accuracy: 0.666400\n",
      "Epoch 76, CIFAR-10 Batch 4:  Loss:     0.4292 accuracy: 0.666800\n",
      "Epoch 76, CIFAR-10 Batch 5:  Loss:     0.4857 accuracy: 0.680400\n",
      "Epoch 77, CIFAR-10 Batch 1:  Loss:     0.4993 accuracy: 0.678600\n",
      "Epoch 77, CIFAR-10 Batch 2:  Loss:     0.5177 accuracy: 0.674400\n",
      "Epoch 77, CIFAR-10 Batch 3:  Loss:     0.4380 accuracy: 0.670400\n",
      "Epoch 77, CIFAR-10 Batch 4:  Loss:     0.4021 accuracy: 0.674800\n",
      "Epoch 77, CIFAR-10 Batch 5:  Loss:     0.4727 accuracy: 0.670400\n",
      "Epoch 78, CIFAR-10 Batch 1:  Loss:     0.4876 accuracy: 0.676600\n",
      "Epoch 78, CIFAR-10 Batch 2:  Loss:     0.5073 accuracy: 0.676200\n",
      "Epoch 78, CIFAR-10 Batch 3:  Loss:     0.4405 accuracy: 0.677200\n",
      "Epoch 78, CIFAR-10 Batch 4:  Loss:     0.3828 accuracy: 0.672800\n",
      "Epoch 78, CIFAR-10 Batch 5:  Loss:     0.4800 accuracy: 0.668000\n",
      "Epoch 79, CIFAR-10 Batch 1:  Loss:     0.4985 accuracy: 0.671000\n",
      "Epoch 79, CIFAR-10 Batch 2:  Loss:     0.4959 accuracy: 0.680600\n",
      "Epoch 79, CIFAR-10 Batch 3:  Loss:     0.4368 accuracy: 0.677400\n",
      "Epoch 79, CIFAR-10 Batch 4:  Loss:     0.3778 accuracy: 0.678200\n",
      "Epoch 79, CIFAR-10 Batch 5:  Loss:     0.4464 accuracy: 0.665800\n",
      "Epoch 80, CIFAR-10 Batch 1:  Loss:     0.4956 accuracy: 0.670400\n",
      "Epoch 80, CIFAR-10 Batch 2:  Loss:     0.4866 accuracy: 0.683400\n",
      "Epoch 80, CIFAR-10 Batch 3:  Loss:     0.4448 accuracy: 0.670200\n",
      "Epoch 80, CIFAR-10 Batch 4:  Loss:     0.3710 accuracy: 0.683400\n",
      "Epoch 80, CIFAR-10 Batch 5:  Loss:     0.4485 accuracy: 0.663800\n",
      "Epoch 81, CIFAR-10 Batch 1:  Loss:     0.4904 accuracy: 0.681000\n",
      "Epoch 81, CIFAR-10 Batch 2:  Loss:     0.4857 accuracy: 0.686200\n",
      "Epoch 81, CIFAR-10 Batch 3:  Loss:     0.4487 accuracy: 0.668000\n",
      "Epoch 81, CIFAR-10 Batch 4:  Loss:     0.3746 accuracy: 0.681200\n",
      "Epoch 81, CIFAR-10 Batch 5:  Loss:     0.4404 accuracy: 0.664000\n",
      "Epoch 82, CIFAR-10 Batch 1:  Loss:     0.4684 accuracy: 0.678800\n",
      "Epoch 82, CIFAR-10 Batch 2:  Loss:     0.5329 accuracy: 0.678200\n",
      "Epoch 82, CIFAR-10 Batch 3:  Loss:     0.4347 accuracy: 0.670600\n",
      "Epoch 82, CIFAR-10 Batch 4:  Loss:     0.3710 accuracy: 0.690200\n",
      "Epoch 82, CIFAR-10 Batch 5:  Loss:     0.4798 accuracy: 0.647400\n",
      "Epoch 83, CIFAR-10 Batch 1:  Loss:     0.4989 accuracy: 0.684400\n",
      "Epoch 83, CIFAR-10 Batch 2:  Loss:     0.5000 accuracy: 0.680000\n",
      "Epoch 83, CIFAR-10 Batch 3:  Loss:     0.4613 accuracy: 0.655200\n",
      "Epoch 83, CIFAR-10 Batch 4:  Loss:     0.3694 accuracy: 0.686400\n",
      "Epoch 83, CIFAR-10 Batch 5:  Loss:     0.4355 accuracy: 0.661400\n",
      "Epoch 84, CIFAR-10 Batch 1:  Loss:     0.4768 accuracy: 0.681400\n",
      "Epoch 84, CIFAR-10 Batch 2:  Loss:     0.4787 accuracy: 0.680600\n",
      "Epoch 84, CIFAR-10 Batch 3:  Loss:     0.4200 accuracy: 0.672200\n",
      "Epoch 84, CIFAR-10 Batch 4:  Loss:     0.3661 accuracy: 0.686400\n",
      "Epoch 84, CIFAR-10 Batch 5:  Loss:     0.4201 accuracy: 0.665000\n",
      "Epoch 85, CIFAR-10 Batch 1:  Loss:     0.4731 accuracy: 0.682800\n",
      "Epoch 85, CIFAR-10 Batch 2:  Loss:     0.4698 accuracy: 0.682000\n",
      "Epoch 85, CIFAR-10 Batch 3:  Loss:     0.4122 accuracy: 0.674400\n",
      "Epoch 85, CIFAR-10 Batch 4:  Loss:     0.3676 accuracy: 0.689000\n",
      "Epoch 85, CIFAR-10 Batch 5:  Loss:     0.4180 accuracy: 0.674200\n",
      "Epoch 86, CIFAR-10 Batch 1:  Loss:     0.5236 accuracy: 0.671400\n",
      "Epoch 86, CIFAR-10 Batch 2:  Loss:     0.4932 accuracy: 0.668600\n",
      "Epoch 86, CIFAR-10 Batch 3:  Loss:     0.4530 accuracy: 0.661000\n",
      "Epoch 86, CIFAR-10 Batch 4:  Loss:     0.3863 accuracy: 0.682600\n",
      "Epoch 86, CIFAR-10 Batch 5:  Loss:     0.4328 accuracy: 0.658600\n",
      "Epoch 87, CIFAR-10 Batch 1:  Loss:     0.5175 accuracy: 0.675600\n",
      "Epoch 87, CIFAR-10 Batch 2:  Loss:     0.4671 accuracy: 0.674400\n",
      "Epoch 87, CIFAR-10 Batch 3:  Loss:     0.3869 accuracy: 0.676000\n",
      "Epoch 87, CIFAR-10 Batch 4:  Loss:     0.3754 accuracy: 0.683600\n",
      "Epoch 87, CIFAR-10 Batch 5:  Loss:     0.3944 accuracy: 0.677400\n",
      "Epoch 88, CIFAR-10 Batch 1:  Loss:     0.4761 accuracy: 0.678600\n",
      "Epoch 88, CIFAR-10 Batch 2:  Loss:     0.4540 accuracy: 0.675400\n",
      "Epoch 88, CIFAR-10 Batch 3:  Loss:     0.4076 accuracy: 0.674000\n",
      "Epoch 88, CIFAR-10 Batch 4:  Loss:     0.3647 accuracy: 0.687200\n",
      "Epoch 88, CIFAR-10 Batch 5:  Loss:     0.4120 accuracy: 0.663200\n",
      "Epoch 89, CIFAR-10 Batch 1:  Loss:     0.4957 accuracy: 0.679800\n",
      "Epoch 89, CIFAR-10 Batch 2:  Loss:     0.4314 accuracy: 0.680600\n",
      "Epoch 89, CIFAR-10 Batch 3:  Loss:     0.3749 accuracy: 0.673200\n",
      "Epoch 89, CIFAR-10 Batch 4:  Loss:     0.3510 accuracy: 0.685400\n",
      "Epoch 89, CIFAR-10 Batch 5:  Loss:     0.3979 accuracy: 0.671400\n",
      "Epoch 90, CIFAR-10 Batch 1:  Loss:     0.4689 accuracy: 0.684600\n",
      "Epoch 90, CIFAR-10 Batch 2:  Loss:     0.4162 accuracy: 0.679600\n",
      "Epoch 90, CIFAR-10 Batch 3:  Loss:     0.3882 accuracy: 0.679400\n",
      "Epoch 90, CIFAR-10 Batch 4:  Loss:     0.3383 accuracy: 0.683200\n",
      "Epoch 90, CIFAR-10 Batch 5:  Loss:     0.3820 accuracy: 0.677000\n",
      "Epoch 91, CIFAR-10 Batch 1:  Loss:     0.4838 accuracy: 0.686200\n",
      "Epoch 91, CIFAR-10 Batch 2:  Loss:     0.4396 accuracy: 0.676000\n",
      "Epoch 91, CIFAR-10 Batch 3:  Loss:     0.3835 accuracy: 0.682600\n",
      "Epoch 91, CIFAR-10 Batch 4:  Loss:     0.3553 accuracy: 0.678600\n",
      "Epoch 91, CIFAR-10 Batch 5:  Loss:     0.3876 accuracy: 0.674200\n",
      "Epoch 92, CIFAR-10 Batch 1:  Loss:     0.5068 accuracy: 0.674600\n",
      "Epoch 92, CIFAR-10 Batch 2:  Loss:     0.4161 accuracy: 0.686200\n",
      "Epoch 92, CIFAR-10 Batch 3:  Loss:     0.3613 accuracy: 0.683600\n",
      "Epoch 92, CIFAR-10 Batch 4:  Loss:     0.3712 accuracy: 0.674200\n",
      "Epoch 92, CIFAR-10 Batch 5:  Loss:     0.3825 accuracy: 0.680800\n",
      "Epoch 93, CIFAR-10 Batch 1:  Loss:     0.4555 accuracy: 0.684600\n",
      "Epoch 93, CIFAR-10 Batch 2:  Loss:     0.4445 accuracy: 0.675200\n",
      "Epoch 93, CIFAR-10 Batch 3:  Loss:     0.3650 accuracy: 0.677600\n",
      "Epoch 93, CIFAR-10 Batch 4:  Loss:     0.3635 accuracy: 0.670400\n",
      "Epoch 93, CIFAR-10 Batch 5:  Loss:     0.4048 accuracy: 0.678400\n",
      "Epoch 94, CIFAR-10 Batch 1:  Loss:     0.4487 accuracy: 0.685400\n",
      "Epoch 94, CIFAR-10 Batch 2:  Loss:     0.4151 accuracy: 0.683800\n",
      "Epoch 94, CIFAR-10 Batch 3:  Loss:     0.3676 accuracy: 0.679200\n",
      "Epoch 94, CIFAR-10 Batch 4:  Loss:     0.3626 accuracy: 0.671800\n",
      "Epoch 94, CIFAR-10 Batch 5:  Loss:     0.3900 accuracy: 0.678800\n",
      "Epoch 95, CIFAR-10 Batch 1:  Loss:     0.4546 accuracy: 0.679800\n",
      "Epoch 95, CIFAR-10 Batch 2:  Loss:     0.4130 accuracy: 0.682800\n",
      "Epoch 95, CIFAR-10 Batch 3:  Loss:     0.3678 accuracy: 0.677600\n",
      "Epoch 95, CIFAR-10 Batch 4:  Loss:     0.3829 accuracy: 0.663400\n",
      "Epoch 95, CIFAR-10 Batch 5:  Loss:     0.3887 accuracy: 0.676800\n",
      "Epoch 96, CIFAR-10 Batch 1:  Loss:     0.4384 accuracy: 0.681200\n",
      "Epoch 96, CIFAR-10 Batch 2:  Loss:     0.4051 accuracy: 0.685400\n",
      "Epoch 96, CIFAR-10 Batch 3:  Loss:     0.3565 accuracy: 0.674600\n",
      "Epoch 96, CIFAR-10 Batch 4:  Loss:     0.3320 accuracy: 0.676600\n",
      "Epoch 96, CIFAR-10 Batch 5:  Loss:     0.3930 accuracy: 0.678400\n",
      "Epoch 97, CIFAR-10 Batch 1:  Loss:     0.4325 accuracy: 0.681000\n",
      "Epoch 97, CIFAR-10 Batch 2:  Loss:     0.4051 accuracy: 0.683000\n",
      "Epoch 97, CIFAR-10 Batch 3:  Loss:     0.3787 accuracy: 0.670800\n",
      "Epoch 97, CIFAR-10 Batch 4:  Loss:     0.3389 accuracy: 0.671800\n",
      "Epoch 97, CIFAR-10 Batch 5:  Loss:     0.3583 accuracy: 0.678800\n",
      "Epoch 98, CIFAR-10 Batch 1:  Loss:     0.4371 accuracy: 0.679600\n",
      "Epoch 98, CIFAR-10 Batch 2:  Loss:     0.3936 accuracy: 0.683400\n",
      "Epoch 98, CIFAR-10 Batch 3:  Loss:     0.3408 accuracy: 0.676000\n",
      "Epoch 98, CIFAR-10 Batch 4:  Loss:     0.3398 accuracy: 0.667600\n",
      "Epoch 98, CIFAR-10 Batch 5:  Loss:     0.3848 accuracy: 0.672800\n",
      "Epoch 99, CIFAR-10 Batch 1:  Loss:     0.4336 accuracy: 0.679200\n",
      "Epoch 99, CIFAR-10 Batch 2:  Loss:     0.3757 accuracy: 0.679600\n",
      "Epoch 99, CIFAR-10 Batch 3:  Loss:     0.3661 accuracy: 0.673600\n",
      "Epoch 99, CIFAR-10 Batch 4:  Loss:     0.3238 accuracy: 0.673400\n",
      "Epoch 99, CIFAR-10 Batch 5:  Loss:     0.3542 accuracy: 0.681600\n",
      "Epoch 100, CIFAR-10 Batch 1:  Loss:     0.4315 accuracy: 0.675000\n",
      "Epoch 100, CIFAR-10 Batch 2:  Loss:     0.3852 accuracy: 0.680000\n",
      "Epoch 100, CIFAR-10 Batch 3:  Loss:     0.3774 accuracy: 0.667200\n",
      "Epoch 100, CIFAR-10 Batch 4:  Loss:     0.3527 accuracy: 0.667800\n",
      "Epoch 100, CIFAR-10 Batch 5:  Loss:     0.3686 accuracy: 0.685600\n"
     ]
    }
   ],
   "source": [
    "\"\"\"\n",
    "DON'T MODIFY ANYTHING IN THIS CELL\n",
    "\"\"\"\n",
    "save_model_path = './image_classification'\n",
    "\n",
    "print('Training...')\n",
    "with tf.Session() as sess:\n",
    "    # Initializing the variables\n",
    "    sess.run(tf.global_variables_initializer())\n",
    "    \n",
    "    # Training cycle\n",
    "    for epoch in range(epochs):\n",
    "        # Loop over all batches\n",
    "        n_batches = 5\n",
    "        for batch_i in range(1, n_batches + 1):\n",
    "            for batch_features, batch_labels in helper.load_preprocess_training_batch(batch_i, batch_size):\n",
    "                train_neural_network(sess, optimizer, keep_probability, batch_features, batch_labels)\n",
    "            print('Epoch {:>2}, CIFAR-10 Batch {}:  '.format(epoch + 1, batch_i), end='')\n",
    "            print_stats(sess, batch_features, batch_labels, cost, accuracy)\n",
    "            \n",
    "    # Save Model\n",
    "    saver = tf.train.Saver()\n",
    "    save_path = saver.save(sess, save_model_path)"
   ]
  },
  {
   "cell_type": "markdown",
   "metadata": {
    "deletable": true,
    "editable": true
   },
   "source": [
    "# Checkpoint\n",
    "The model has been saved to disk.\n",
    "## Test Model\n",
    "Test your model against the test dataset.  This will be your final accuracy. You should have an accuracy greater than 50%. If you don't, keep tweaking the model architecture and parameters."
   ]
  },
  {
   "cell_type": "code",
   "execution_count": 18,
   "metadata": {
    "collapsed": false,
    "deletable": true,
    "editable": true
   },
   "outputs": [
    {
     "name": "stdout",
     "output_type": "stream",
     "text": [
      "Testing Accuracy: 0.6736672818660736\n",
      "\n"
     ]
    },
    {
     "data": {
      "image/png": "[encoded data removed]",
      "text/plain": [
       "<matplotlib.figure.Figure at 0x7f88f7715828>"
      ]
     },
     "metadata": {
      "image/png": {
       "height": 319,
       "width": 355
      }
     },
     "output_type": "display_data"
    }
   ],
   "source": [
    "\"\"\"\n",
    "DON'T MODIFY ANYTHING IN THIS CELL\n",
    "\"\"\"\n",
    "%matplotlib inline\n",
    "%config InlineBackend.figure_format = 'retina'\n",
    "\n",
    "import tensorflow as tf\n",
    "import pickle\n",
    "import helper\n",
    "import random\n",
    "\n",
    "# Set batch size if not already set\n",
    "try:\n",
    "    if batch_size:\n",
    "        pass\n",
    "except NameError:\n",
    "    batch_size = 64\n",
    "\n",
    "save_model_path = './image_classification'\n",
    "n_samples = 4\n",
    "top_n_predictions = 3\n",
    "\n",
    "def test_model():\n",
    "    \"\"\"\n",
    "    Test the saved model against the test dataset\n",
    "    \"\"\"\n",
    "\n",
    "    test_features, test_labels = pickle.load(open('preprocess_training.p', mode='rb'))\n",
    "    loaded_graph = tf.Graph()\n",
    "\n",
    "    with tf.Session(graph=loaded_graph) as sess:\n",
    "        # Load model\n",
    "        loader = tf.train.import_meta_graph(save_model_path + '.meta')\n",
    "        loader.restore(sess, save_model_path)\n",
    "\n",
    "        # Get Tensors from loaded model\n",
    "        loaded_x = loaded_graph.get_tensor_by_name('x:0')\n",
    "        loaded_y = loaded_graph.get_tensor_by_name('y:0')\n",
    "        loaded_keep_prob = loaded_graph.get_tensor_by_name('keep_prob:0')\n",
    "        loaded_logits = loaded_graph.get_tensor_by_name('logits:0')\n",
    "        loaded_acc = loaded_graph.get_tensor_by_name('accuracy:0')\n",
    "        \n",
    "        # Get accuracy in batches for memory limitations\n",
    "        test_batch_acc_total = 0\n",
    "        test_batch_count = 0\n",
    "        \n",
    "        for train_feature_batch, train_label_batch in helper.batch_features_labels(test_features, test_labels, batch_size):\n",
    "            test_batch_acc_total += sess.run(\n",
    "                loaded_acc,\n",
    "                feed_dict={loaded_x: train_feature_batch, loaded_y: train_label_batch, loaded_keep_prob: 1.0})\n",
    "            test_batch_count += 1\n",
    "\n",
    "        print('Testing Accuracy: {}\\n'.format(test_batch_acc_total/test_batch_count))\n",
    "\n",
    "        # Print Random Samples\n",
    "        random_test_features, random_test_labels = tuple(zip(*random.sample(list(zip(test_features, test_labels)), n_samples)))\n",
    "        random_test_predictions = sess.run(\n",
    "            tf.nn.top_k(tf.nn.softmax(loaded_logits), top_n_predictions),\n",
    "            feed_dict={loaded_x: random_test_features, loaded_y: random_test_labels, loaded_keep_prob: 1.0})\n",
    "        helper.display_image_predictions(random_test_features, random_test_labels, random_test_predictions)\n",
    "\n",
    "\n",
    "test_model()"
   ]
  },
  {
   "cell_type": "markdown",
   "metadata": {
    "deletable": true,
    "editable": true
   },
   "source": [
    "## Why 50-70% Accuracy?\n",
    "You might be wondering why you can't get an accuracy any higher. First things first, 50% isn't bad for a simple CNN.  Pure guessing would get you 10% accuracy. However, you might notice people are getting scores [well above 70%](http://rodrigob.github.io/are_we_there_yet/build/classification_datasets_results.html#43494641522d3130).  That's because we haven't taught you all there is to know about neural networks. We still need to cover a few more techniques.\n",
    "## Submitting This Project\n",
    "When submitting this project, make sure to run all the cells before saving the notebook.  Save the notebook file as \"dlnd_image_classification.ipynb\" and save it as a HTML file under \"File\" -> \"Download as\".  Include the \"helper.py\" and \"problem_unittests.py\" files in your submission."
   ]
  }
 ],
 "metadata": {
  "kernelspec": {
   "display_name": "Python (py3-tensorflow)",
   "language": "python",
   "name": "myenv"
  },
  "language_info": {
   "codemirror_mode": {
    "name": "ipython",
    "version": 3
   },
   "file_extension": ".py",
   "mimetype": "text/x-python",
   "name": "python",
   "nbconvert_exporter": "python",
   "pygments_lexer": "ipython3",
   "version": "3.5.2"
  }
 },
 "nbformat": 4,
 "nbformat_minor": 0
}
